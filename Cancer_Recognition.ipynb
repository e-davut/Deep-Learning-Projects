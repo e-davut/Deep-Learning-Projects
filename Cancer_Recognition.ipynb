{
  "cells": [
    {
      "cell_type": "markdown",
      "id": "baa6a8d5",
      "metadata": {
        "id": "baa6a8d5"
      },
      "source": [
        "### Libraries"
      ]
    },
    {
      "cell_type": "code",
      "execution_count": 1,
      "id": "80672d3b",
      "metadata": {
        "id": "80672d3b"
      },
      "outputs": [],
      "source": [
        "import os\n",
        "import pandas as pd\n",
        "import numpy as np\n",
        "import tensorflow as tf\n",
        "from sklearn.model_selection import train_test_split\n",
        "from tensorflow.keras.models import Sequential\n",
        "from tensorflow.keras.layers import Dense, Dropout, Activation, Input\n",
        "from tensorflow.keras.optimizers import SGD\n",
        "from sklearn.impute import SimpleImputer\n",
        "import matplotlib.pyplot as plt\n",
        "from sklearn.metrics import accuracy_score, precision_score, recall_score, f1_score, confusion_matrix, ConfusionMatrixDisplay"
      ]
    },
    {
      "cell_type": "markdown",
      "source": [
        "### Data loading and preparation"
      ],
      "metadata": {
        "id": "7cje14lU0hAT"
      },
      "id": "7cje14lU0hAT"
    },
    {
      "cell_type": "code",
      "source": [
        "ROOT_DIR = 'Breast_Cancer'\n",
        "IN_GOOGLE_COLAB = True\n",
        "\n",
        "if IN_GOOGLE_COLAB:\n",
        "    # mount google drive\n",
        "    from google.colab import drive\n",
        "    drive.mount('/content/gdrive')\n",
        "\n",
        "    # change the current working directory\n",
        "    %cd gdrive/'My Drive'\n",
        "\n",
        "    # create a root directory if there's none\n",
        "    if not os.path.isdir(ROOT_DIR):\n",
        "        %mkdir $ROOT_DIR\n",
        "\n",
        "    # change the current working directory\n",
        "    %cd $ROOT_DIR"
      ],
      "metadata": {
        "colab": {
          "base_uri": "https://localhost:8080/"
        },
        "id": "xaBou9LENIVP",
        "outputId": "efbb6d98-a385-43c2-b39e-561d0d8fdb90"
      },
      "id": "xaBou9LENIVP",
      "execution_count": 2,
      "outputs": [
        {
          "output_type": "stream",
          "name": "stdout",
          "text": [
            "Drive already mounted at /content/gdrive; to attempt to forcibly remount, call drive.mount(\"/content/gdrive\", force_remount=True).\n",
            "/content/gdrive/My Drive\n",
            "/content/gdrive/My Drive/Breast_Cancer\n"
          ]
        }
      ]
    },
    {
      "cell_type": "code",
      "execution_count": 3,
      "id": "7687640d",
      "metadata": {
        "id": "7687640d",
        "outputId": "14d0546d-c274-49ac-d074-af9c9eb4b44f",
        "colab": {
          "base_uri": "https://localhost:8080/",
          "height": 441
        }
      },
      "outputs": [
        {
          "output_type": "stream",
          "name": "stdout",
          "text": [
            "(698, 10)\n"
          ]
        },
        {
          "output_type": "execute_result",
          "data": {
            "text/plain": [
              "     5   1  1.1  1.2  2 1.3   3  1.4  1.5  2.1\n",
              "0    5   4    4    5  7  10   3    2    1    2\n",
              "1    3   1    1    1  2   2   3    1    1    2\n",
              "2    6   8    8    1  3   4   3    7    1    2\n",
              "3    4   1    1    3  2   1   3    1    1    2\n",
              "4    8  10   10    8  7  10   9    7    1    4\n",
              "..  ..  ..  ...  ... ..  ..  ..  ...  ...  ...\n",
              "693  3   1    1    1  3   2   1    1    1    2\n",
              "694  2   1    1    1  2   1   1    1    1    2\n",
              "695  5  10   10    3  7   3   8   10    2    4\n",
              "696  4   8    6    4  3   4  10    6    1    4\n",
              "697  4   8    8    5  4   5  10    4    1    4\n",
              "\n",
              "[698 rows x 10 columns]"
            ],
            "text/html": [
              "\n",
              "  <div id=\"df-2a1d2c4f-5fd9-4bfe-a0c2-21f81935459d\">\n",
              "    <div class=\"colab-df-container\">\n",
              "      <div>\n",
              "<style scoped>\n",
              "    .dataframe tbody tr th:only-of-type {\n",
              "        vertical-align: middle;\n",
              "    }\n",
              "\n",
              "    .dataframe tbody tr th {\n",
              "        vertical-align: top;\n",
              "    }\n",
              "\n",
              "    .dataframe thead th {\n",
              "        text-align: right;\n",
              "    }\n",
              "</style>\n",
              "<table border=\"1\" class=\"dataframe\">\n",
              "  <thead>\n",
              "    <tr style=\"text-align: right;\">\n",
              "      <th></th>\n",
              "      <th>5</th>\n",
              "      <th>1</th>\n",
              "      <th>1.1</th>\n",
              "      <th>1.2</th>\n",
              "      <th>2</th>\n",
              "      <th>1.3</th>\n",
              "      <th>3</th>\n",
              "      <th>1.4</th>\n",
              "      <th>1.5</th>\n",
              "      <th>2.1</th>\n",
              "    </tr>\n",
              "  </thead>\n",
              "  <tbody>\n",
              "    <tr>\n",
              "      <th>0</th>\n",
              "      <td>5</td>\n",
              "      <td>4</td>\n",
              "      <td>4</td>\n",
              "      <td>5</td>\n",
              "      <td>7</td>\n",
              "      <td>10</td>\n",
              "      <td>3</td>\n",
              "      <td>2</td>\n",
              "      <td>1</td>\n",
              "      <td>2</td>\n",
              "    </tr>\n",
              "    <tr>\n",
              "      <th>1</th>\n",
              "      <td>3</td>\n",
              "      <td>1</td>\n",
              "      <td>1</td>\n",
              "      <td>1</td>\n",
              "      <td>2</td>\n",
              "      <td>2</td>\n",
              "      <td>3</td>\n",
              "      <td>1</td>\n",
              "      <td>1</td>\n",
              "      <td>2</td>\n",
              "    </tr>\n",
              "    <tr>\n",
              "      <th>2</th>\n",
              "      <td>6</td>\n",
              "      <td>8</td>\n",
              "      <td>8</td>\n",
              "      <td>1</td>\n",
              "      <td>3</td>\n",
              "      <td>4</td>\n",
              "      <td>3</td>\n",
              "      <td>7</td>\n",
              "      <td>1</td>\n",
              "      <td>2</td>\n",
              "    </tr>\n",
              "    <tr>\n",
              "      <th>3</th>\n",
              "      <td>4</td>\n",
              "      <td>1</td>\n",
              "      <td>1</td>\n",
              "      <td>3</td>\n",
              "      <td>2</td>\n",
              "      <td>1</td>\n",
              "      <td>3</td>\n",
              "      <td>1</td>\n",
              "      <td>1</td>\n",
              "      <td>2</td>\n",
              "    </tr>\n",
              "    <tr>\n",
              "      <th>4</th>\n",
              "      <td>8</td>\n",
              "      <td>10</td>\n",
              "      <td>10</td>\n",
              "      <td>8</td>\n",
              "      <td>7</td>\n",
              "      <td>10</td>\n",
              "      <td>9</td>\n",
              "      <td>7</td>\n",
              "      <td>1</td>\n",
              "      <td>4</td>\n",
              "    </tr>\n",
              "    <tr>\n",
              "      <th>...</th>\n",
              "      <td>...</td>\n",
              "      <td>...</td>\n",
              "      <td>...</td>\n",
              "      <td>...</td>\n",
              "      <td>...</td>\n",
              "      <td>...</td>\n",
              "      <td>...</td>\n",
              "      <td>...</td>\n",
              "      <td>...</td>\n",
              "      <td>...</td>\n",
              "    </tr>\n",
              "    <tr>\n",
              "      <th>693</th>\n",
              "      <td>3</td>\n",
              "      <td>1</td>\n",
              "      <td>1</td>\n",
              "      <td>1</td>\n",
              "      <td>3</td>\n",
              "      <td>2</td>\n",
              "      <td>1</td>\n",
              "      <td>1</td>\n",
              "      <td>1</td>\n",
              "      <td>2</td>\n",
              "    </tr>\n",
              "    <tr>\n",
              "      <th>694</th>\n",
              "      <td>2</td>\n",
              "      <td>1</td>\n",
              "      <td>1</td>\n",
              "      <td>1</td>\n",
              "      <td>2</td>\n",
              "      <td>1</td>\n",
              "      <td>1</td>\n",
              "      <td>1</td>\n",
              "      <td>1</td>\n",
              "      <td>2</td>\n",
              "    </tr>\n",
              "    <tr>\n",
              "      <th>695</th>\n",
              "      <td>5</td>\n",
              "      <td>10</td>\n",
              "      <td>10</td>\n",
              "      <td>3</td>\n",
              "      <td>7</td>\n",
              "      <td>3</td>\n",
              "      <td>8</td>\n",
              "      <td>10</td>\n",
              "      <td>2</td>\n",
              "      <td>4</td>\n",
              "    </tr>\n",
              "    <tr>\n",
              "      <th>696</th>\n",
              "      <td>4</td>\n",
              "      <td>8</td>\n",
              "      <td>6</td>\n",
              "      <td>4</td>\n",
              "      <td>3</td>\n",
              "      <td>4</td>\n",
              "      <td>10</td>\n",
              "      <td>6</td>\n",
              "      <td>1</td>\n",
              "      <td>4</td>\n",
              "    </tr>\n",
              "    <tr>\n",
              "      <th>697</th>\n",
              "      <td>4</td>\n",
              "      <td>8</td>\n",
              "      <td>8</td>\n",
              "      <td>5</td>\n",
              "      <td>4</td>\n",
              "      <td>5</td>\n",
              "      <td>10</td>\n",
              "      <td>4</td>\n",
              "      <td>1</td>\n",
              "      <td>4</td>\n",
              "    </tr>\n",
              "  </tbody>\n",
              "</table>\n",
              "<p>698 rows × 10 columns</p>\n",
              "</div>\n",
              "      <button class=\"colab-df-convert\" onclick=\"convertToInteractive('df-2a1d2c4f-5fd9-4bfe-a0c2-21f81935459d')\"\n",
              "              title=\"Convert this dataframe to an interactive table.\"\n",
              "              style=\"display:none;\">\n",
              "        \n",
              "  <svg xmlns=\"http://www.w3.org/2000/svg\" height=\"24px\"viewBox=\"0 0 24 24\"\n",
              "       width=\"24px\">\n",
              "    <path d=\"M0 0h24v24H0V0z\" fill=\"none\"/>\n",
              "    <path d=\"M18.56 5.44l.94 2.06.94-2.06 2.06-.94-2.06-.94-.94-2.06-.94 2.06-2.06.94zm-11 1L8.5 8.5l.94-2.06 2.06-.94-2.06-.94L8.5 2.5l-.94 2.06-2.06.94zm10 10l.94 2.06.94-2.06 2.06-.94-2.06-.94-.94-2.06-.94 2.06-2.06.94z\"/><path d=\"M17.41 7.96l-1.37-1.37c-.4-.4-.92-.59-1.43-.59-.52 0-1.04.2-1.43.59L10.3 9.45l-7.72 7.72c-.78.78-.78 2.05 0 2.83L4 21.41c.39.39.9.59 1.41.59.51 0 1.02-.2 1.41-.59l7.78-7.78 2.81-2.81c.8-.78.8-2.07 0-2.86zM5.41 20L4 18.59l7.72-7.72 1.47 1.35L5.41 20z\"/>\n",
              "  </svg>\n",
              "      </button>\n",
              "      \n",
              "  <style>\n",
              "    .colab-df-container {\n",
              "      display:flex;\n",
              "      flex-wrap:wrap;\n",
              "      gap: 12px;\n",
              "    }\n",
              "\n",
              "    .colab-df-convert {\n",
              "      background-color: #E8F0FE;\n",
              "      border: none;\n",
              "      border-radius: 50%;\n",
              "      cursor: pointer;\n",
              "      display: none;\n",
              "      fill: #1967D2;\n",
              "      height: 32px;\n",
              "      padding: 0 0 0 0;\n",
              "      width: 32px;\n",
              "    }\n",
              "\n",
              "    .colab-df-convert:hover {\n",
              "      background-color: #E2EBFA;\n",
              "      box-shadow: 0px 1px 2px rgba(60, 64, 67, 0.3), 0px 1px 3px 1px rgba(60, 64, 67, 0.15);\n",
              "      fill: #174EA6;\n",
              "    }\n",
              "\n",
              "    [theme=dark] .colab-df-convert {\n",
              "      background-color: #3B4455;\n",
              "      fill: #D2E3FC;\n",
              "    }\n",
              "\n",
              "    [theme=dark] .colab-df-convert:hover {\n",
              "      background-color: #434B5C;\n",
              "      box-shadow: 0px 1px 3px 1px rgba(0, 0, 0, 0.15);\n",
              "      filter: drop-shadow(0px 1px 2px rgba(0, 0, 0, 0.3));\n",
              "      fill: #FFFFFF;\n",
              "    }\n",
              "  </style>\n",
              "\n",
              "      <script>\n",
              "        const buttonEl =\n",
              "          document.querySelector('#df-2a1d2c4f-5fd9-4bfe-a0c2-21f81935459d button.colab-df-convert');\n",
              "        buttonEl.style.display =\n",
              "          google.colab.kernel.accessAllowed ? 'block' : 'none';\n",
              "\n",
              "        async function convertToInteractive(key) {\n",
              "          const element = document.querySelector('#df-2a1d2c4f-5fd9-4bfe-a0c2-21f81935459d');\n",
              "          const dataTable =\n",
              "            await google.colab.kernel.invokeFunction('convertToInteractive',\n",
              "                                                     [key], {});\n",
              "          if (!dataTable) return;\n",
              "\n",
              "          const docLinkHtml = 'Like what you see? Visit the ' +\n",
              "            '<a target=\"_blank\" href=https://colab.research.google.com/notebooks/data_table.ipynb>data table notebook</a>'\n",
              "            + ' to learn more about interactive tables.';\n",
              "          element.innerHTML = '';\n",
              "          dataTable['output_type'] = 'display_data';\n",
              "          await google.colab.output.renderOutput(dataTable, element);\n",
              "          const docLink = document.createElement('div');\n",
              "          docLink.innerHTML = docLinkHtml;\n",
              "          element.appendChild(docLink);\n",
              "        }\n",
              "      </script>\n",
              "    </div>\n",
              "  </div>\n",
              "  "
            ]
          },
          "metadata": {},
          "execution_count": 3
        }
      ],
      "source": [
        "data = pd.read_csv(\"breast-cancer-wisconsin.data\")\n",
        "data.replace('?', -99999, inplace=True)\n",
        "data = data.drop(['1000025'], axis=1)\n",
        "print(data.shape)\n",
        "data"
      ]
    },
    {
      "cell_type": "code",
      "source": [
        "imp = SimpleImputer(missing_values=-99999, strategy=\"mean\")\n",
        "data = imp.fit_transform(data)\n",
        "print(data.shape)\n",
        "data"
      ],
      "metadata": {
        "colab": {
          "base_uri": "https://localhost:8080/"
        },
        "id": "r_I4GcSZqmnQ",
        "outputId": "9ec350a1-734c-40c2-c246-f26aabf3ce21"
      },
      "id": "r_I4GcSZqmnQ",
      "execution_count": 4,
      "outputs": [
        {
          "output_type": "stream",
          "name": "stdout",
          "text": [
            "(698, 10)\n"
          ]
        },
        {
          "output_type": "execute_result",
          "data": {
            "text/plain": [
              "array([[ 5.,  4.,  4., ...,  2.,  1.,  2.],\n",
              "       [ 3.,  1.,  1., ...,  1.,  1.,  2.],\n",
              "       [ 6.,  8.,  8., ...,  7.,  1.,  2.],\n",
              "       ...,\n",
              "       [ 5., 10., 10., ..., 10.,  2.,  4.],\n",
              "       [ 4.,  8.,  6., ...,  6.,  1.,  4.],\n",
              "       [ 4.,  8.,  8., ...,  4.,  1.,  4.]])"
            ]
          },
          "metadata": {},
          "execution_count": 4
        }
      ]
    },
    {
      "cell_type": "code",
      "execution_count": 5,
      "id": "2189e72a",
      "metadata": {
        "id": "2189e72a",
        "outputId": "1b1b3059-0271-456f-cad1-e7ed6ddddab8",
        "colab": {
          "base_uri": "https://localhost:8080/"
        }
      },
      "outputs": [
        {
          "output_type": "execute_result",
          "data": {
            "text/plain": [
              "(698, 9)"
            ]
          },
          "metadata": {},
          "execution_count": 5
        }
      ],
      "source": [
        "X = data[:, 0:-1]\n",
        "X.shape"
      ]
    },
    {
      "cell_type": "code",
      "execution_count": 6,
      "id": "cdc06f2a",
      "metadata": {
        "id": "cdc06f2a",
        "outputId": "386a1886-52f3-4743-c329-209b4a90dbb8",
        "colab": {
          "base_uri": "https://localhost:8080/"
        }
      },
      "outputs": [
        {
          "output_type": "execute_result",
          "data": {
            "text/plain": [
              "(698,)"
            ]
          },
          "metadata": {},
          "execution_count": 6
        }
      ],
      "source": [
        "Y = data[:, -1]\n",
        "Y.shape"
      ]
    },
    {
      "cell_type": "code",
      "source": [
        "type(X), type(Y)"
      ],
      "metadata": {
        "colab": {
          "base_uri": "https://localhost:8080/"
        },
        "id": "ohm6WYVgrFC8",
        "outputId": "cc61e20f-ff5b-4095-aaef-467f3762b53b"
      },
      "id": "ohm6WYVgrFC8",
      "execution_count": 7,
      "outputs": [
        {
          "output_type": "execute_result",
          "data": {
            "text/plain": [
              "(numpy.ndarray, numpy.ndarray)"
            ]
          },
          "metadata": {},
          "execution_count": 7
        }
      ]
    },
    {
      "cell_type": "code",
      "execution_count": 8,
      "id": "3a2ee934",
      "metadata": {
        "id": "3a2ee934"
      },
      "outputs": [],
      "source": [
        "X_train, X_test, Y_train, Y_test = train_test_split(X, Y, test_size=0.2, random_state=42)"
      ]
    },
    {
      "cell_type": "code",
      "execution_count": 9,
      "id": "be458317",
      "metadata": {
        "id": "be458317",
        "outputId": "ffea62c9-a712-4afb-e5f3-600fbc22e2c6",
        "colab": {
          "base_uri": "https://localhost:8080/"
        }
      },
      "outputs": [
        {
          "output_type": "execute_result",
          "data": {
            "text/plain": [
              "((558, 9), (140, 9), (558,), (140,))"
            ]
          },
          "metadata": {},
          "execution_count": 9
        }
      ],
      "source": [
        "X_train.shape, X_test.shape, Y_train.shape, Y_test.shape"
      ]
    },
    {
      "cell_type": "markdown",
      "source": [
        "### Model creating"
      ],
      "metadata": {
        "id": "JxsE3J3N0ta9"
      },
      "id": "JxsE3J3N0ta9"
    },
    {
      "cell_type": "code",
      "execution_count": 10,
      "id": "c3fef16c",
      "metadata": {
        "id": "c3fef16c"
      },
      "outputs": [],
      "source": [
        "model = Sequential()\n",
        "model.add(Dense(64, activation=\"relu\", input_shape=X_train[0].shape))\n",
        "model.add(Dense(32, activation=\"relu\"))\n",
        "model.add(Dense(64, activation=\"softmax\"))"
      ]
    },
    {
      "cell_type": "code",
      "source": [
        "model.summary()"
      ],
      "metadata": {
        "colab": {
          "base_uri": "https://localhost:8080/"
        },
        "id": "RHg6tIXwwqeK",
        "outputId": "d6ea667b-27be-4a55-821c-cf9c247ec518"
      },
      "id": "RHg6tIXwwqeK",
      "execution_count": 11,
      "outputs": [
        {
          "output_type": "stream",
          "name": "stdout",
          "text": [
            "Model: \"sequential\"\n",
            "_________________________________________________________________\n",
            " Layer (type)                Output Shape              Param #   \n",
            "=================================================================\n",
            " dense (Dense)               (None, 64)                640       \n",
            "                                                                 \n",
            " dense_1 (Dense)             (None, 32)                2080      \n",
            "                                                                 \n",
            " dense_2 (Dense)             (None, 64)                2112      \n",
            "                                                                 \n",
            "=================================================================\n",
            "Total params: 4,832\n",
            "Trainable params: 4,832\n",
            "Non-trainable params: 0\n",
            "_________________________________________________________________\n"
          ]
        }
      ]
    },
    {
      "cell_type": "code",
      "execution_count": 12,
      "id": "c0fe40f1",
      "metadata": {
        "id": "c0fe40f1"
      },
      "outputs": [],
      "source": [
        "model.compile(optimizer=\"Adam\", \n",
        "              loss=\"sparse_categorical_crossentropy\",\n",
        "              metrics=[\"accuracy\"])"
      ]
    },
    {
      "cell_type": "code",
      "execution_count": 13,
      "id": "77ffe6cf",
      "metadata": {
        "id": "77ffe6cf",
        "outputId": "8982972f-623b-4ef8-e6ca-5c6a55a2dc05",
        "colab": {
          "base_uri": "https://localhost:8080/"
        }
      },
      "outputs": [
        {
          "output_type": "stream",
          "name": "stdout",
          "text": [
            "Epoch 1/30\n",
            "15/15 [==============================] - 5s 58ms/step - loss: 3.5173 - accuracy: 0.1139 - val_loss: 2.5390 - val_accuracy: 0.3214\n",
            "Epoch 2/30\n",
            "15/15 [==============================] - 0s 13ms/step - loss: 2.0300 - accuracy: 0.3418 - val_loss: 1.5134 - val_accuracy: 0.3810\n",
            "Epoch 3/30\n",
            "15/15 [==============================] - 0s 26ms/step - loss: 1.1910 - accuracy: 0.6983 - val_loss: 0.8516 - val_accuracy: 0.8929\n",
            "Epoch 4/30\n",
            "15/15 [==============================] - 0s 19ms/step - loss: 0.6943 - accuracy: 0.8692 - val_loss: 0.5506 - val_accuracy: 0.8929\n",
            "Epoch 5/30\n",
            "15/15 [==============================] - 0s 24ms/step - loss: 0.4900 - accuracy: 0.8945 - val_loss: 0.4609 - val_accuracy: 0.8810\n",
            "Epoch 6/30\n",
            "15/15 [==============================] - 0s 14ms/step - loss: 0.4086 - accuracy: 0.8924 - val_loss: 0.4157 - val_accuracy: 0.8810\n",
            "Epoch 7/30\n",
            "15/15 [==============================] - 0s 17ms/step - loss: 0.3640 - accuracy: 0.8987 - val_loss: 0.3928 - val_accuracy: 0.8929\n",
            "Epoch 8/30\n",
            "15/15 [==============================] - 0s 18ms/step - loss: 0.3291 - accuracy: 0.9030 - val_loss: 0.3820 - val_accuracy: 0.8810\n",
            "Epoch 9/30\n",
            "15/15 [==============================] - 0s 17ms/step - loss: 0.3106 - accuracy: 0.9156 - val_loss: 0.3746 - val_accuracy: 0.8810\n",
            "Epoch 10/30\n",
            "15/15 [==============================] - 0s 20ms/step - loss: 0.2879 - accuracy: 0.9156 - val_loss: 0.3526 - val_accuracy: 0.9286\n",
            "Epoch 11/30\n",
            "15/15 [==============================] - 0s 10ms/step - loss: 0.2685 - accuracy: 0.9156 - val_loss: 0.3482 - val_accuracy: 0.8929\n",
            "Epoch 12/30\n",
            "15/15 [==============================] - 0s 9ms/step - loss: 0.2503 - accuracy: 0.9198 - val_loss: 0.3336 - val_accuracy: 0.9286\n",
            "Epoch 13/30\n",
            "15/15 [==============================] - 0s 9ms/step - loss: 0.2461 - accuracy: 0.9262 - val_loss: 0.3215 - val_accuracy: 0.9286\n",
            "Epoch 14/30\n",
            "15/15 [==============================] - 0s 10ms/step - loss: 0.2445 - accuracy: 0.9198 - val_loss: 0.3496 - val_accuracy: 0.8929\n",
            "Epoch 15/30\n",
            "15/15 [==============================] - 0s 9ms/step - loss: 0.2113 - accuracy: 0.9451 - val_loss: 0.3071 - val_accuracy: 0.9286\n",
            "Epoch 16/30\n",
            "15/15 [==============================] - 0s 12ms/step - loss: 0.1987 - accuracy: 0.9515 - val_loss: 0.2901 - val_accuracy: 0.9405\n",
            "Epoch 17/30\n",
            "15/15 [==============================] - 0s 10ms/step - loss: 0.1870 - accuracy: 0.9494 - val_loss: 0.2784 - val_accuracy: 0.9405\n",
            "Epoch 18/30\n",
            "15/15 [==============================] - 0s 17ms/step - loss: 0.1821 - accuracy: 0.9536 - val_loss: 0.2987 - val_accuracy: 0.9048\n",
            "Epoch 19/30\n",
            "15/15 [==============================] - 0s 12ms/step - loss: 0.1726 - accuracy: 0.9494 - val_loss: 0.2609 - val_accuracy: 0.9405\n",
            "Epoch 20/30\n",
            "15/15 [==============================] - 0s 14ms/step - loss: 0.1661 - accuracy: 0.9494 - val_loss: 0.2485 - val_accuracy: 0.9524\n",
            "Epoch 21/30\n",
            "15/15 [==============================] - 0s 13ms/step - loss: 0.1567 - accuracy: 0.9557 - val_loss: 0.2416 - val_accuracy: 0.9405\n",
            "Epoch 22/30\n",
            "15/15 [==============================] - 0s 13ms/step - loss: 0.1394 - accuracy: 0.9662 - val_loss: 0.2813 - val_accuracy: 0.9048\n",
            "Epoch 23/30\n",
            "15/15 [==============================] - 0s 12ms/step - loss: 0.1505 - accuracy: 0.9599 - val_loss: 0.2303 - val_accuracy: 0.9286\n",
            "Epoch 24/30\n",
            "15/15 [==============================] - 0s 14ms/step - loss: 0.1266 - accuracy: 0.9599 - val_loss: 0.2130 - val_accuracy: 0.9524\n",
            "Epoch 25/30\n",
            "15/15 [==============================] - 0s 11ms/step - loss: 0.1184 - accuracy: 0.9620 - val_loss: 0.2265 - val_accuracy: 0.9286\n",
            "Epoch 26/30\n",
            "15/15 [==============================] - 0s 9ms/step - loss: 0.1098 - accuracy: 0.9684 - val_loss: 0.2051 - val_accuracy: 0.9405\n",
            "Epoch 27/30\n",
            "15/15 [==============================] - 0s 15ms/step - loss: 0.1043 - accuracy: 0.9641 - val_loss: 0.2106 - val_accuracy: 0.9286\n",
            "Epoch 28/30\n",
            "15/15 [==============================] - 0s 13ms/step - loss: 0.1047 - accuracy: 0.9662 - val_loss: 0.1954 - val_accuracy: 0.9643\n",
            "Epoch 29/30\n",
            "15/15 [==============================] - 0s 11ms/step - loss: 0.0939 - accuracy: 0.9662 - val_loss: 0.2375 - val_accuracy: 0.9048\n",
            "Epoch 30/30\n",
            "15/15 [==============================] - 0s 11ms/step - loss: 0.0913 - accuracy: 0.9789 - val_loss: 0.1834 - val_accuracy: 0.9643\n"
          ]
        }
      ],
      "source": [
        "history = model.fit(X_train, Y_train, batch_size=32, epochs=30, validation_split=0.15)"
      ]
    },
    {
      "cell_type": "markdown",
      "source": [
        "### Evaluation"
      ],
      "metadata": {
        "id": "oatu7vMY0xHe"
      },
      "id": "oatu7vMY0xHe"
    },
    {
      "cell_type": "code",
      "source": [
        "train_loss, train_acc = model.evaluate(X_train, Y_train, verbose=0)\n",
        "print(\"Train Accuracy: %.2f%%\" % (train_acc*100))\n",
        "test_loss, test_acc = model.evaluate(X_test, Y_test, verbose=0)\n",
        "print(\"Test Accuracy: %.2f%%\" % (test_acc*100))"
      ],
      "metadata": {
        "colab": {
          "base_uri": "https://localhost:8080/"
        },
        "id": "241AHfPKxic3",
        "outputId": "9e9e0406-c4df-4e40-8f50-32836b611a07"
      },
      "id": "241AHfPKxic3",
      "execution_count": 14,
      "outputs": [
        {
          "output_type": "stream",
          "name": "stdout",
          "text": [
            "Train Accuracy: 97.49%\n",
            "Test Accuracy: 96.43%\n"
          ]
        }
      ]
    },
    {
      "cell_type": "code",
      "execution_count": 15,
      "id": "8fb157a1",
      "metadata": {
        "id": "8fb157a1",
        "colab": {
          "base_uri": "https://localhost:8080/",
          "height": 927
        },
        "outputId": "bbaef1fc-7e1d-47f0-f6b6-e0bfd7bae468"
      },
      "outputs": [
        {
          "output_type": "display_data",
          "data": {
            "text/plain": [
              "<Figure size 640x480 with 1 Axes>"
            ],
            "image/png": "[encoded data removed]"
          },
          "metadata": {}
        },
        {
          "output_type": "display_data",
          "data": {
            "text/plain": [
              "<Figure size 640x480 with 1 Axes>"
            ],
            "image/png": "[encoded data removed]"
          },
          "metadata": {}
        }
      ],
      "source": [
        "plt.plot(history.history['accuracy'])\n",
        "plt.plot(history.history['val_accuracy'])\n",
        "plt.title('Model accuracy')\n",
        "plt.ylabel('Accuracy')\n",
        "plt.xlabel('Epoch')\n",
        "plt.legend(['Train', 'Validation'], loc='upper left')\n",
        "plt.show()\n",
        "\n",
        "plt.plot(history.history['loss'])\n",
        "plt.plot(history.history['val_loss'])\n",
        "plt.title('Model loss')\n",
        "plt.ylabel('Loss')\n",
        "plt.xlabel('Epoch')\n",
        "plt.legend(['Train', 'Validation'], loc='upper right')\n",
        "plt.show()"
      ]
    },
    {
      "cell_type": "code",
      "execution_count": 16,
      "id": "57c66768",
      "metadata": {
        "id": "57c66768",
        "colab": {
          "base_uri": "https://localhost:8080/",
          "height": 894
        },
        "outputId": "ad75e7c9-40f2-4456-a4a5-30362f9d52b6"
      },
      "outputs": [
        {
          "output_type": "stream",
          "name": "stdout",
          "text": [
            "5/5 [==============================] - 0s 3ms/step\n",
            "Accuracy: 0.9642857142857143\n",
            "Precision: 0.9571490094745909\n",
            "Recall: 0.967724168319013\n",
            "F1 Score: 0.9619047619047618\n"
          ]
        },
        {
          "output_type": "display_data",
          "data": {
            "text/plain": [
              "<Figure size 1000x1000 with 2 Axes>"
            ],
            "image/png": "[encoded data removed]"
          },
          "metadata": {}
        }
      ],
      "source": [
        "Y_pred = model.predict(X_test, verbose=1)\n",
        "Y_pred = np.argmax(Y_pred, axis=1)\n",
        "\n",
        "accuracy = accuracy_score(Y_test, Y_pred)\n",
        "precision = precision_score(Y_test, Y_pred, average='macro')\n",
        "recall = recall_score(Y_test, Y_pred, average='macro')\n",
        "f1 = f1_score(Y_test, Y_pred, average='macro')\n",
        "cm = confusion_matrix(Y_test, Y_pred)\n",
        "\n",
        "print(\"Accuracy:\", accuracy)\n",
        "print(\"Precision:\", precision)\n",
        "print(\"Recall:\", recall)\n",
        "print(\"F1 Score:\", f1)\n",
        "\n",
        "cm_display = ConfusionMatrixDisplay(confusion_matrix=cm)\n",
        "fig, ax = plt.subplots(figsize=(10, 10))\n",
        "cm_display.plot(ax=ax, cmap=plt.cm.Blues)\n",
        "plt.xticks(fontsize=14)\n",
        "plt.yticks(fontsize=14)\n",
        "plt.xlabel('Predicted label', fontsize=16)\n",
        "plt.ylabel('True label', fontsize=16)\n",
        "plt.show()"
      ]
    },
    {
      "cell_type": "code",
      "execution_count": 16,
      "id": "ac5d3309",
      "metadata": {
        "id": "ac5d3309"
      },
      "outputs": [],
      "source": []
    }
  ],
  "metadata": {
    "kernelspec": {
      "display_name": "Python 3 (ipykernel)",
      "language": "python",
      "name": "python3"
    },
    "language_info": {
      "codemirror_mode": {
        "name": "ipython",
        "version": 3
      },
      "file_extension": ".py",
      "mimetype": "text/x-python",
      "name": "python",
      "nbconvert_exporter": "python",
      "pygments_lexer": "ipython3",
      "version": "3.9.13"
    },
    "colab": {
      "provenance": []
    },
    "accelerator": "GPU",
    "gpuClass": "standard"
  },
  "nbformat": 4,
  "nbformat_minor": 5
}