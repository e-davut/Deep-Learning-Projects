{
  "cells": [
    {
      "cell_type": "markdown",
      "id": "aee79beb",
      "metadata": {
        "id": "aee79beb"
      },
      "source": [
        "### Libraries"
      ]
    },
    {
      "cell_type": "code",
      "source": [
        "pip install visualkeras"
      ],
      "metadata": {
        "colab": {
          "base_uri": "https://localhost:8080/"
        },
        "id": "waZUlNX6seE9",
        "outputId": "f5221ff4-f492-4978-b90b-aaedfbf17327"
      },
      "id": "waZUlNX6seE9",
      "execution_count": 1,
      "outputs": [
        {
          "output_type": "stream",
          "name": "stdout",
          "text": [
            "Looking in indexes: https://pypi.org/simple, https://us-python.pkg.dev/colab-wheels/public/simple/\n",
            "Requirement already satisfied: visualkeras in /usr/local/lib/python3.9/dist-packages (0.0.2)\n",
            "Requirement already satisfied: numpy>=1.18.1 in /usr/local/lib/python3.9/dist-packages (from visualkeras) (1.22.4)\n",
            "Requirement already satisfied: pillow>=6.2.0 in /usr/local/lib/python3.9/dist-packages (from visualkeras) (8.4.0)\n",
            "Requirement already satisfied: aggdraw>=1.3.11 in /usr/local/lib/python3.9/dist-packages (from visualkeras) (1.3.16)\n"
          ]
        }
      ]
    },
    {
      "cell_type": "code",
      "execution_count": 2,
      "id": "3a3158a7",
      "metadata": {
        "id": "3a3158a7"
      },
      "outputs": [],
      "source": [
        "import tensorflow as tf\n",
        "from tensorflow import keras\n",
        "from keras.utils import to_categorical\n",
        "from keras import Input, Model, regularizers\n",
        "import visualkeras\n",
        "from tensorflow.keras.layers import Flatten, Dense, Dropout, Conv2D, MaxPool2D, Reshape\n",
        "import matplotlib.pyplot as plt\n",
        "from sklearn.metrics import accuracy_score, precision_score, recall_score, f1_score, confusion_matrix, ConfusionMatrixDisplay\n",
        "import pandas as pd\n",
        "import numpy as np\n",
        "import seaborn as sns"
      ]
    },
    {
      "cell_type": "markdown",
      "id": "81ff40b3",
      "metadata": {
        "id": "81ff40b3"
      },
      "source": [
        "### Dataset loading"
      ]
    },
    {
      "cell_type": "code",
      "execution_count": 3,
      "id": "f696b756",
      "metadata": {
        "id": "f696b756"
      },
      "outputs": [],
      "source": [
        "fashion_mnist = tf.keras.datasets.fashion_mnist\n",
        "(X_train, Y_train), (X_test, Y_test) = fashion_mnist.load_data() "
      ]
    },
    {
      "cell_type": "markdown",
      "id": "f1cf4745",
      "metadata": {
        "id": "f1cf4745"
      },
      "source": [
        "### Train/test basic info"
      ]
    },
    {
      "cell_type": "code",
      "execution_count": 4,
      "id": "0210d6c5",
      "metadata": {
        "colab": {
          "base_uri": "https://localhost:8080/"
        },
        "id": "0210d6c5",
        "outputId": "317559f3-9e0b-408c-cbfa-5dc03f241d09"
      },
      "outputs": [
        {
          "output_type": "stream",
          "name": "stdout",
          "text": [
            "(60000, 28, 28)\n",
            "(60000,)\n",
            "(10000, 28, 28)\n",
            "(10000,)\n"
          ]
        }
      ],
      "source": [
        "print(X_train.shape)\n",
        "print(Y_train.shape)\n",
        "\n",
        "print(X_test.shape)\n",
        "print(Y_test.shape)"
      ]
    },
    {
      "cell_type": "code",
      "execution_count": 5,
      "id": "e000dc73",
      "metadata": {
        "colab": {
          "base_uri": "https://localhost:8080/"
        },
        "id": "e000dc73",
        "outputId": "0c8bbb6e-d710-414c-da75-adaa19a1e933"
      },
      "outputs": [
        {
          "output_type": "execute_result",
          "data": {
            "text/plain": [
              "array([9, 0, 0, ..., 3, 0, 5], dtype=uint8)"
            ]
          },
          "metadata": {},
          "execution_count": 5
        }
      ],
      "source": [
        "Y_train"
      ]
    },
    {
      "cell_type": "code",
      "execution_count": 6,
      "id": "419a72b7",
      "metadata": {
        "id": "419a72b7"
      },
      "outputs": [],
      "source": [
        "class_names = [\"T-shirt\", \"Trousers\", \"Pullover\", \"Dress\", \"Coat\", \"Sandal\", \"Shirt\", \"Sneakers\", \"Bag\", \"Ankle boot\"]"
      ]
    },
    {
      "cell_type": "markdown",
      "id": "20f47db9",
      "metadata": {
        "id": "20f47db9"
      },
      "source": [
        "### Data visualization"
      ]
    },
    {
      "cell_type": "code",
      "execution_count": 7,
      "id": "9bf46eff",
      "metadata": {
        "colab": {
          "base_uri": "https://localhost:8080/",
          "height": 265
        },
        "id": "9bf46eff",
        "outputId": "ba9fc6cf-3255-4e2f-94e3-63e437d3d4bf"
      },
      "outputs": [
        {
          "output_type": "display_data",
          "data": {
            "text/plain": [
              "<Figure size 432x288 with 2 Axes>"
            ],
            "image/png": "[encoded data removed]"
          },
          "metadata": {
            "needs_background": "light"
          }
        }
      ],
      "source": [
        "plt.figure()\n",
        "plt.imshow(X_train[3])\n",
        "plt.colorbar()\n",
        "plt.grid(False)\n",
        "plt.show()"
      ]
    },
    {
      "cell_type": "markdown",
      "id": "387f348f",
      "metadata": {
        "id": "387f348f"
      },
      "source": [
        "### Data preprocessing"
      ]
    },
    {
      "cell_type": "code",
      "execution_count": 8,
      "id": "c78c0a18",
      "metadata": {
        "id": "c78c0a18"
      },
      "outputs": [],
      "source": [
        "#Normalization\n",
        "X_train = X_train / 255.0\n",
        "X_test = X_test / 255.0"
      ]
    },
    {
      "cell_type": "code",
      "source": [
        "#Categorization\n",
        "Y_train = to_categorical(Y_train)\n",
        "Y_test = to_categorical(Y_test)"
      ],
      "metadata": {
        "id": "b2nJKDX1p9l_"
      },
      "id": "b2nJKDX1p9l_",
      "execution_count": 9,
      "outputs": []
    },
    {
      "cell_type": "markdown",
      "id": "661d22c9",
      "metadata": {
        "id": "661d22c9"
      },
      "source": [
        "### Creating model"
      ]
    },
    {
      "cell_type": "code",
      "execution_count": 10,
      "id": "afb4004b",
      "metadata": {
        "id": "afb4004b"
      },
      "outputs": [],
      "source": [
        "input = Input(shape=X_train[0].shape)\n",
        "X = Flatten()(input)\n",
        "X = Dense(64, activation='relu')(X)\n",
        "X = Dropout(0.2)(X)\n",
        "X = Dense(128, activation='relu')(X)\n",
        "X = Dropout(0.2)(X)\n",
        "X = Dense(256, activation='relu')(X)\n",
        "X = Dropout(0.2)(X)\n",
        "output = Dense(len(class_names), activation='softmax')(X)\n",
        "\n",
        "model = Model(input, output)"
      ]
    },
    {
      "cell_type": "code",
      "execution_count": 11,
      "id": "69f79fd7",
      "metadata": {
        "colab": {
          "base_uri": "https://localhost:8080/"
        },
        "id": "69f79fd7",
        "outputId": "ce048a68-a17f-4e14-fa80-43c1410bce1d"
      },
      "outputs": [
        {
          "output_type": "stream",
          "name": "stdout",
          "text": [
            "Model: \"model\"\n",
            "_________________________________________________________________\n",
            " Layer (type)                Output Shape              Param #   \n",
            "=================================================================\n",
            " input_1 (InputLayer)        [(None, 28, 28)]          0         \n",
            "                                                                 \n",
            " flatten (Flatten)           (None, 784)               0         \n",
            "                                                                 \n",
            " dense (Dense)               (None, 64)                50240     \n",
            "                                                                 \n",
            " dropout (Dropout)           (None, 64)                0         \n",
            "                                                                 \n",
            " dense_1 (Dense)             (None, 128)               8320      \n",
            "                                                                 \n",
            " dropout_1 (Dropout)         (None, 128)               0         \n",
            "                                                                 \n",
            " dense_2 (Dense)             (None, 256)               33024     \n",
            "                                                                 \n",
            " dropout_2 (Dropout)         (None, 256)               0         \n",
            "                                                                 \n",
            " dense_3 (Dense)             (None, 10)                2570      \n",
            "                                                                 \n",
            "=================================================================\n",
            "Total params: 94,154\n",
            "Trainable params: 94,154\n",
            "Non-trainable params: 0\n",
            "_________________________________________________________________\n"
          ]
        }
      ],
      "source": [
        "model.summary()"
      ]
    },
    {
      "cell_type": "code",
      "source": [
        "input2 = Input(shape=X_train[0].shape)\n",
        "X = Reshape((28, 28, 1))(input2)\n",
        "\n",
        "X = Conv2D(64, kernel_size=(3,3), padding = 'same')(X)\n",
        "X = Conv2D(64, kernel_size=(3,3), padding = 'same')(X)\n",
        "X = MaxPool2D(2, strides = 2, padding = 'same')(X)\n",
        "\n",
        "X = Conv2D(128, kernel_size=(3,3), padding = 'same')(X)\n",
        "X = Conv2D(128, kernel_size=(3,3), padding = 'same')(X)\n",
        "X = MaxPool2D(3, strides = 2, padding = 'same')(X)\n",
        "\n",
        "X = Conv2D(256, kernel_size=(3,3), padding = 'same')(X)\n",
        "X = Conv2D(256, kernel_size=(3,3), padding = 'same')(X)\n",
        "X = MaxPool2D(3, strides = 2, padding = 'same')(X)\n",
        "\n",
        "X = Flatten()(X)\n",
        "X = Dense(512, activation=\"relu\")(X)\n",
        "X = Dropout(0.2)(X) \n",
        "X = Dense(512, activation=\"relu\")(X)\n",
        "output = Dense(len(class_names), activation=\"softmax\")(X)\n",
        "\n",
        "model_cnn = Model(input2, output)"
      ],
      "metadata": {
        "id": "3kO-VDb1znod"
      },
      "id": "3kO-VDb1znod",
      "execution_count": 18,
      "outputs": []
    },
    {
      "cell_type": "code",
      "source": [
        "model_cnn.summary()"
      ],
      "metadata": {
        "colab": {
          "base_uri": "https://localhost:8080/"
        },
        "id": "bsmy-NQj3MyX",
        "outputId": "8aac5fa7-465e-4745-e211-2c3c20d81fb0"
      },
      "id": "bsmy-NQj3MyX",
      "execution_count": 13,
      "outputs": [
        {
          "output_type": "stream",
          "name": "stdout",
          "text": [
            "Model: \"model_1\"\n",
            "_________________________________________________________________\n",
            " Layer (type)                Output Shape              Param #   \n",
            "=================================================================\n",
            " input_2 (InputLayer)        [(None, 28, 28)]          0         \n",
            "                                                                 \n",
            " reshape (Reshape)           (None, 28, 28, 1)         0         \n",
            "                                                                 \n",
            " conv2d (Conv2D)             (None, 28, 28, 64)        640       \n",
            "                                                                 \n",
            " conv2d_1 (Conv2D)           (None, 28, 28, 64)        36928     \n",
            "                                                                 \n",
            " max_pooling2d (MaxPooling2D  (None, 14, 14, 64)       0         \n",
            " )                                                               \n",
            "                                                                 \n",
            " conv2d_2 (Conv2D)           (None, 14, 14, 128)       73856     \n",
            "                                                                 \n",
            " conv2d_3 (Conv2D)           (None, 14, 14, 128)       147584    \n",
            "                                                                 \n",
            " max_pooling2d_1 (MaxPooling  (None, 7, 7, 128)        0         \n",
            " 2D)                                                             \n",
            "                                                                 \n",
            " conv2d_4 (Conv2D)           (None, 7, 7, 256)         295168    \n",
            "                                                                 \n",
            " conv2d_5 (Conv2D)           (None, 7, 7, 256)         590080    \n",
            "                                                                 \n",
            " max_pooling2d_2 (MaxPooling  (None, 4, 4, 256)        0         \n",
            " 2D)                                                             \n",
            "                                                                 \n",
            " flatten_1 (Flatten)         (None, 4096)              0         \n",
            "                                                                 \n",
            " dense_4 (Dense)             (None, 512)               2097664   \n",
            "                                                                 \n",
            " dropout_3 (Dropout)         (None, 512)               0         \n",
            "                                                                 \n",
            " dense_5 (Dense)             (None, 512)               262656    \n",
            "                                                                 \n",
            " dense_6 (Dense)             (None, 10)                5130      \n",
            "                                                                 \n",
            "=================================================================\n",
            "Total params: 3,509,706\n",
            "Trainable params: 3,509,706\n",
            "Non-trainable params: 0\n",
            "_________________________________________________________________\n"
          ]
        }
      ]
    },
    {
      "cell_type": "markdown",
      "id": "eb19ede5",
      "metadata": {
        "id": "eb19ede5"
      },
      "source": [
        "### Model configuration"
      ]
    },
    {
      "cell_type": "code",
      "execution_count": 14,
      "id": "44afce1c",
      "metadata": {
        "id": "44afce1c"
      },
      "outputs": [],
      "source": [
        "model.compile(optimizer='Adam', \n",
        "              loss='categorical_crossentropy',\n",
        "              metrics=['accuracy'])"
      ]
    },
    {
      "cell_type": "code",
      "source": [
        "model_cnn.compile(optimizer='Adam', \n",
        "              loss='categorical_crossentropy',\n",
        "              metrics=['accuracy'])"
      ],
      "metadata": {
        "id": "IDzmFRA908z5"
      },
      "id": "IDzmFRA908z5",
      "execution_count": 19,
      "outputs": []
    },
    {
      "cell_type": "markdown",
      "id": "d20fec77",
      "metadata": {
        "id": "d20fec77"
      },
      "source": [
        "### Model fitting"
      ]
    },
    {
      "cell_type": "code",
      "execution_count": 16,
      "id": "585f1638",
      "metadata": {
        "colab": {
          "base_uri": "https://localhost:8080/"
        },
        "id": "585f1638",
        "outputId": "2ac590b4-075b-4a19-fd5c-d4a37568f280"
      },
      "outputs": [
        {
          "output_type": "stream",
          "name": "stdout",
          "text": [
            "Epoch 1/20\n",
            "375/375 [==============================] - 5s 6ms/step - loss: 0.7160 - accuracy: 0.7382 - val_loss: 0.4374 - val_accuracy: 0.8403\n",
            "Epoch 2/20\n",
            "375/375 [==============================] - 2s 4ms/step - loss: 0.4694 - accuracy: 0.8312 - val_loss: 0.3960 - val_accuracy: 0.8544\n",
            "Epoch 3/20\n",
            "375/375 [==============================] - 2s 4ms/step - loss: 0.4202 - accuracy: 0.8459 - val_loss: 0.3983 - val_accuracy: 0.8573\n",
            "Epoch 4/20\n",
            "375/375 [==============================] - 3s 7ms/step - loss: 0.3978 - accuracy: 0.8566 - val_loss: 0.3581 - val_accuracy: 0.8698\n",
            "Epoch 5/20\n",
            "375/375 [==============================] - 2s 5ms/step - loss: 0.3801 - accuracy: 0.8620 - val_loss: 0.3504 - val_accuracy: 0.8712\n",
            "Epoch 6/20\n",
            "375/375 [==============================] - 3s 9ms/step - loss: 0.3680 - accuracy: 0.8661 - val_loss: 0.3472 - val_accuracy: 0.8734\n",
            "Epoch 7/20\n",
            "375/375 [==============================] - 4s 10ms/step - loss: 0.3571 - accuracy: 0.8699 - val_loss: 0.3474 - val_accuracy: 0.8757\n",
            "Epoch 8/20\n",
            "375/375 [==============================] - 2s 4ms/step - loss: 0.3490 - accuracy: 0.8714 - val_loss: 0.3439 - val_accuracy: 0.8711\n",
            "Epoch 9/20\n",
            "375/375 [==============================] - 2s 4ms/step - loss: 0.3410 - accuracy: 0.8747 - val_loss: 0.3304 - val_accuracy: 0.8776\n",
            "Epoch 10/20\n",
            "375/375 [==============================] - 2s 4ms/step - loss: 0.3304 - accuracy: 0.8780 - val_loss: 0.3237 - val_accuracy: 0.8817\n",
            "Epoch 11/20\n",
            "375/375 [==============================] - 2s 4ms/step - loss: 0.3260 - accuracy: 0.8796 - val_loss: 0.3443 - val_accuracy: 0.8755\n",
            "Epoch 12/20\n",
            "375/375 [==============================] - 2s 4ms/step - loss: 0.3225 - accuracy: 0.8808 - val_loss: 0.3179 - val_accuracy: 0.8858\n",
            "Epoch 13/20\n",
            "375/375 [==============================] - 2s 5ms/step - loss: 0.3150 - accuracy: 0.8826 - val_loss: 0.3250 - val_accuracy: 0.8808\n",
            "Epoch 14/20\n",
            "375/375 [==============================] - 2s 6ms/step - loss: 0.3140 - accuracy: 0.8846 - val_loss: 0.3228 - val_accuracy: 0.8842\n",
            "Epoch 15/20\n",
            "375/375 [==============================] - 2s 5ms/step - loss: 0.3062 - accuracy: 0.8873 - val_loss: 0.3274 - val_accuracy: 0.8831\n",
            "Epoch 16/20\n",
            "375/375 [==============================] - 2s 4ms/step - loss: 0.2980 - accuracy: 0.8894 - val_loss: 0.3189 - val_accuracy: 0.8813\n",
            "Epoch 17/20\n",
            "375/375 [==============================] - 2s 5ms/step - loss: 0.2990 - accuracy: 0.8900 - val_loss: 0.3152 - val_accuracy: 0.8886\n",
            "Epoch 18/20\n",
            "375/375 [==============================] - 2s 4ms/step - loss: 0.2934 - accuracy: 0.8915 - val_loss: 0.3200 - val_accuracy: 0.8843\n",
            "Epoch 19/20\n",
            "375/375 [==============================] - 2s 4ms/step - loss: 0.2899 - accuracy: 0.8916 - val_loss: 0.3099 - val_accuracy: 0.8870\n",
            "Epoch 20/20\n",
            "375/375 [==============================] - 2s 4ms/step - loss: 0.2891 - accuracy: 0.8929 - val_loss: 0.3090 - val_accuracy: 0.8904\n"
          ]
        }
      ],
      "source": [
        "history = model.fit(X_train, Y_train, epochs=20, validation_split=0.2, batch_size=128)"
      ]
    },
    {
      "cell_type": "code",
      "source": [
        "history_cnn = model_cnn.fit(X_train, Y_train, epochs=20, validation_split=0.2, batch_size=128)"
      ],
      "metadata": {
        "colab": {
          "base_uri": "https://localhost:8080/"
        },
        "id": "WUqvrQQ60_p7",
        "outputId": "03e08815-e320-404c-83f3-0eb70ae6bd26"
      },
      "id": "WUqvrQQ60_p7",
      "execution_count": 20,
      "outputs": [
        {
          "output_type": "stream",
          "name": "stdout",
          "text": [
            "Epoch 1/20\n",
            "375/375 [==============================] - 14s 27ms/step - loss: 0.5296 - accuracy: 0.8053 - val_loss: 0.3410 - val_accuracy: 0.8759\n",
            "Epoch 2/20\n",
            "375/375 [==============================] - 9s 24ms/step - loss: 0.3142 - accuracy: 0.8857 - val_loss: 0.3046 - val_accuracy: 0.8866\n",
            "Epoch 3/20\n",
            "375/375 [==============================] - 10s 26ms/step - loss: 0.2639 - accuracy: 0.9032 - val_loss: 0.2861 - val_accuracy: 0.8973\n",
            "Epoch 4/20\n",
            "375/375 [==============================] - 9s 25ms/step - loss: 0.2395 - accuracy: 0.9121 - val_loss: 0.2839 - val_accuracy: 0.8963\n",
            "Epoch 5/20\n",
            "375/375 [==============================] - 9s 24ms/step - loss: 0.2185 - accuracy: 0.9196 - val_loss: 0.3052 - val_accuracy: 0.8939\n",
            "Epoch 6/20\n",
            "375/375 [==============================] - 9s 24ms/step - loss: 0.2004 - accuracy: 0.9275 - val_loss: 0.2592 - val_accuracy: 0.9028\n",
            "Epoch 7/20\n",
            "375/375 [==============================] - 10s 25ms/step - loss: 0.1881 - accuracy: 0.9305 - val_loss: 0.2693 - val_accuracy: 0.9032\n",
            "Epoch 8/20\n",
            "375/375 [==============================] - 9s 25ms/step - loss: 0.1891 - accuracy: 0.9303 - val_loss: 0.2607 - val_accuracy: 0.9149\n",
            "Epoch 9/20\n",
            "375/375 [==============================] - 9s 24ms/step - loss: 0.1585 - accuracy: 0.9411 - val_loss: 0.2705 - val_accuracy: 0.9131\n",
            "Epoch 10/20\n",
            "375/375 [==============================] - 9s 24ms/step - loss: 0.1518 - accuracy: 0.9446 - val_loss: 0.2717 - val_accuracy: 0.9119\n",
            "Epoch 11/20\n",
            "375/375 [==============================] - 9s 24ms/step - loss: 0.1610 - accuracy: 0.9424 - val_loss: 0.2762 - val_accuracy: 0.9159\n",
            "Epoch 12/20\n",
            "375/375 [==============================] - 10s 26ms/step - loss: 0.1640 - accuracy: 0.9424 - val_loss: 0.3044 - val_accuracy: 0.9096\n",
            "Epoch 13/20\n",
            "375/375 [==============================] - 9s 25ms/step - loss: 0.1508 - accuracy: 0.9460 - val_loss: 0.2842 - val_accuracy: 0.9180\n",
            "Epoch 14/20\n",
            "375/375 [==============================] - 10s 25ms/step - loss: 0.1335 - accuracy: 0.9514 - val_loss: 0.2937 - val_accuracy: 0.9104\n",
            "Epoch 15/20\n",
            "375/375 [==============================] - 9s 24ms/step - loss: 0.1275 - accuracy: 0.9538 - val_loss: 0.3360 - val_accuracy: 0.9118\n",
            "Epoch 16/20\n",
            "375/375 [==============================] - 10s 26ms/step - loss: 0.1493 - accuracy: 0.9487 - val_loss: 0.3542 - val_accuracy: 0.9080\n",
            "Epoch 17/20\n",
            "375/375 [==============================] - 9s 25ms/step - loss: 0.1106 - accuracy: 0.9605 - val_loss: 0.3032 - val_accuracy: 0.9204\n",
            "Epoch 18/20\n",
            "375/375 [==============================] - 9s 24ms/step - loss: 0.1289 - accuracy: 0.9552 - val_loss: 0.3663 - val_accuracy: 0.9047\n",
            "Epoch 19/20\n",
            "375/375 [==============================] - 9s 24ms/step - loss: 0.1250 - accuracy: 0.9580 - val_loss: 0.3320 - val_accuracy: 0.9130\n",
            "Epoch 20/20\n",
            "375/375 [==============================] - 9s 24ms/step - loss: 0.1016 - accuracy: 0.9649 - val_loss: 0.3599 - val_accuracy: 0.9162\n"
          ]
        }
      ]
    },
    {
      "cell_type": "markdown",
      "id": "ff10b766",
      "metadata": {
        "id": "ff10b766"
      },
      "source": [
        "### Evaluation"
      ]
    },
    {
      "cell_type": "code",
      "execution_count": 21,
      "id": "7f042e50",
      "metadata": {
        "id": "7f042e50",
        "colab": {
          "base_uri": "https://localhost:8080/"
        },
        "outputId": "c023fbb3-f84d-4bec-e32c-c5debc5c6d0b"
      },
      "outputs": [
        {
          "output_type": "stream",
          "name": "stdout",
          "text": [
            "313/313 [==============================] - 1s 3ms/step - loss: 0.3348 - accuracy: 0.8847\n",
            "\n",
            "Test Accuracy:  0.8847000002861023\n"
          ]
        }
      ],
      "source": [
        "test_loss, test_acc = model.evaluate(X_test, Y_test)\n",
        "print(\"\\nTest Accuracy: \", test_acc)"
      ]
    },
    {
      "cell_type": "code",
      "source": [
        "test_loss, test_acc = model_cnn.evaluate(X_test, Y_test)\n",
        "print(\"\\nTest Accuracy: \", test_acc)"
      ],
      "metadata": {
        "colab": {
          "base_uri": "https://localhost:8080/"
        },
        "id": "xaCEkKL9188X",
        "outputId": "8d5b50f4-39c1-4d62-e0e5-098a010a8882"
      },
      "id": "xaCEkKL9188X",
      "execution_count": 22,
      "outputs": [
        {
          "output_type": "stream",
          "name": "stdout",
          "text": [
            "313/313 [==============================] - 2s 7ms/step - loss: 0.3686 - accuracy: 0.9139\n",
            "\n",
            "Test Accuracy:  0.9139000177383423\n"
          ]
        }
      ]
    },
    {
      "cell_type": "code",
      "execution_count": 23,
      "id": "0dc72d55",
      "metadata": {
        "id": "0dc72d55",
        "colab": {
          "base_uri": "https://localhost:8080/",
          "height": 445
        },
        "outputId": "186fd2d3-aae6-4c0e-d021-27f26a9ea905"
      },
      "outputs": [
        {
          "output_type": "display_data",
          "data": {
            "text/plain": [
              "<Figure size 720x432 with 1 Axes>"
            ],
            "image/png": "[encoded data removed]"
          },
          "metadata": {
            "needs_background": "light"
          }
        }
      ],
      "source": [
        "fig, ax = plt.subplots(figsize=(10, 6))\n",
        "\n",
        "ax.plot(history.history['accuracy'])\n",
        "ax.plot(history.history['val_accuracy'])\n",
        "ax.plot(history.history['loss'])\n",
        "ax.plot(history.history['val_loss'])\n",
        "ax.set_title('Model Performance')\n",
        "ax.set_ylabel('Accuracy/Loss')\n",
        "ax.set_xlabel('Epoch')\n",
        "ax.legend(['Train Acc', 'Val Acc', 'Train Loss', 'Val Loss'], \n",
        "          loc='upper center', bbox_to_anchor=(0.5, -0.15), \n",
        "          fancybox=True, shadow=True, ncol=4)\n",
        "\n",
        "plt.show()\n"
      ]
    },
    {
      "cell_type": "code",
      "source": [
        "fig, ax = plt.subplots(figsize=(10, 6))\n",
        "\n",
        "ax.plot(history_cnn.history['accuracy'])\n",
        "ax.plot(history_cnn.history['val_accuracy'])\n",
        "ax.plot(history_cnn.history['loss'])\n",
        "ax.plot(history_cnn.history['val_loss'])\n",
        "ax.set_title('Model Performance')\n",
        "ax.set_ylabel('Accuracy/Loss')\n",
        "ax.set_xlabel('Epoch')\n",
        "ax.legend(['Train Acc', 'Val Acc', 'Train Loss', 'Val Loss'], \n",
        "          loc='upper center', bbox_to_anchor=(0.5, -0.15), \n",
        "          fancybox=True, shadow=True, ncol=4)\n",
        "\n",
        "plt.show()"
      ],
      "metadata": {
        "colab": {
          "base_uri": "https://localhost:8080/",
          "height": 445
        },
        "id": "5ej0Gubu1cVx",
        "outputId": "f175c7c8-24c4-4955-bd79-83a4212868a1"
      },
      "id": "5ej0Gubu1cVx",
      "execution_count": 24,
      "outputs": [
        {
          "output_type": "display_data",
          "data": {
            "text/plain": [
              "<Figure size 720x432 with 1 Axes>"
            ],
            "image/png": "[encoded data removed]"
          },
          "metadata": {
            "needs_background": "light"
          }
        }
      ]
    },
    {
      "cell_type": "code",
      "source": [
        "Y_pred = model.predict(X_test, verbose=1)\n",
        "Y_pred = np.argmax(Y_pred, axis=1)\n",
        "Y_test_cal = np.argmax(Y_test, axis=1)\n",
        "\n",
        "accuracy = accuracy_score(Y_test_cal, Y_pred)\n",
        "precision = precision_score(Y_test_cal, Y_pred, average='macro')\n",
        "recall = recall_score(Y_test_cal, Y_pred, average='macro')\n",
        "f1 = f1_score(Y_test_cal, Y_pred, average='macro')\n",
        "cm = confusion_matrix(Y_test_cal, Y_pred)\n",
        "\n",
        "print(\"Accuracy:\", accuracy)\n",
        "print(\"Precision:\", precision)\n",
        "print(\"Recall:\", recall)\n",
        "print(\"F1 Score:\", f1)\n",
        "\n",
        "cm_display = ConfusionMatrixDisplay(confusion_matrix=cm)\n",
        "fig, ax = plt.subplots(figsize=(10, 10))\n",
        "cm_display.plot(ax=ax, cmap=plt.cm.Blues)\n",
        "plt.xticks(fontsize=14)\n",
        "plt.yticks(fontsize=14)\n",
        "plt.xlabel('Predicted label', fontsize=16)\n",
        "plt.ylabel('True label', fontsize=16)\n",
        "plt.show()"
      ],
      "metadata": {
        "colab": {
          "base_uri": "https://localhost:8080/",
          "height": 667
        },
        "id": "CmIc51CW2WO_",
        "outputId": "362ee93f-a56f-4c1e-b5bc-69668e544008"
      },
      "id": "CmIc51CW2WO_",
      "execution_count": 25,
      "outputs": [
        {
          "output_type": "stream",
          "name": "stdout",
          "text": [
            "313/313 [==============================] - 1s 2ms/step\n",
            "Accuracy: 0.8847\n",
            "Precision: 0.8845741155802049\n",
            "Recall: 0.8846999999999999\n",
            "F1 Score: 0.8839534148115519\n"
          ]
        },
        {
          "output_type": "display_data",
          "data": {
            "text/plain": [
              "<Figure size 720x720 with 2 Axes>"
            ],
            "image/png": "[encoded data removed]"
          },
          "metadata": {
            "needs_background": "light"
          }
        }
      ]
    },
    {
      "cell_type": "code",
      "source": [
        "Y_pred = model_cnn.predict(X_test, verbose=1)\n",
        "Y_pred = np.argmax(Y_pred, axis=1)\n",
        "Y_test_cal = np.argmax(Y_test, axis=1)\n",
        "\n",
        "accuracy = accuracy_score(Y_test_cal, Y_pred)\n",
        "precision = precision_score(Y_test_cal, Y_pred, average='macro')\n",
        "recall = recall_score(Y_test_cal, Y_pred, average='macro')\n",
        "f1 = f1_score(Y_test_cal, Y_pred, average='macro')\n",
        "cm = confusion_matrix(Y_test_cal, Y_pred)\n",
        "\n",
        "print(\"Accuracy:\", accuracy)\n",
        "print(\"Precision:\", precision)\n",
        "print(\"Recall:\", recall)\n",
        "print(\"F1 Score:\", f1)\n",
        "\n",
        "cm_display = ConfusionMatrixDisplay(confusion_matrix=cm)\n",
        "fig, ax = plt.subplots(figsize=(10, 10))\n",
        "cm_display.plot(ax=ax, cmap=plt.cm.Blues)\n",
        "plt.xticks(fontsize=14)\n",
        "plt.yticks(fontsize=14)\n",
        "plt.xlabel('Predicted label', fontsize=16)\n",
        "plt.ylabel('True label', fontsize=16)\n",
        "plt.show()"
      ],
      "metadata": {
        "colab": {
          "base_uri": "https://localhost:8080/",
          "height": 667
        },
        "id": "-siqEmmQ2WhW",
        "outputId": "b7e22dad-2426-44be-f623-b98b4e08ecae"
      },
      "id": "-siqEmmQ2WhW",
      "execution_count": 26,
      "outputs": [
        {
          "output_type": "stream",
          "name": "stdout",
          "text": [
            "313/313 [==============================] - 1s 3ms/step\n",
            "Accuracy: 0.9139\n",
            "Precision: 0.9134201037254052\n",
            "Recall: 0.9138999999999999\n",
            "F1 Score: 0.9133389532730563\n"
          ]
        },
        {
          "output_type": "display_data",
          "data": {
            "text/plain": [
              "<Figure size 720x720 with 2 Axes>"
            ],
            "image/png": "[encoded data removed]"
          },
          "metadata": {
            "needs_background": "light"
          }
        }
      ]
    },
    {
      "cell_type": "markdown",
      "id": "0929f391",
      "metadata": {
        "id": "0929f391"
      },
      "source": [
        "### Detailed Prediction Analysis"
      ]
    },
    {
      "cell_type": "code",
      "execution_count": 27,
      "id": "a58d4a24",
      "metadata": {
        "id": "a58d4a24",
        "colab": {
          "base_uri": "https://localhost:8080/"
        },
        "outputId": "45d21888-f639-47f9-fa10-459ab3655b90"
      },
      "outputs": [
        {
          "output_type": "stream",
          "name": "stdout",
          "text": [
            "313/313 [==============================] - 1s 3ms/step\n"
          ]
        }
      ],
      "source": [
        "prediction = model_cnn.predict(X_test)"
      ]
    },
    {
      "cell_type": "code",
      "execution_count": 28,
      "id": "36a1d884",
      "metadata": {
        "id": "36a1d884",
        "colab": {
          "base_uri": "https://localhost:8080/"
        },
        "outputId": "db4e1168-9ca9-41aa-968f-16eb6b11ffe2"
      },
      "outputs": [
        {
          "output_type": "execute_result",
          "data": {
            "text/plain": [
              "array([0.0000000e+00, 0.0000000e+00, 0.0000000e+00, 0.0000000e+00,\n",
              "       0.0000000e+00, 4.2320785e-27, 0.0000000e+00, 6.1963574e-18,\n",
              "       0.0000000e+00, 1.0000000e+00], dtype=float32)"
            ]
          },
          "metadata": {},
          "execution_count": 28
        }
      ],
      "source": [
        "prediction[0]"
      ]
    },
    {
      "cell_type": "code",
      "execution_count": 29,
      "id": "978e7649",
      "metadata": {
        "id": "978e7649",
        "colab": {
          "base_uri": "https://localhost:8080/"
        },
        "outputId": "bc8d8270-7307-4f38-9b3e-63c1157920bb"
      },
      "outputs": [
        {
          "output_type": "execute_result",
          "data": {
            "text/plain": [
              "9"
            ]
          },
          "metadata": {},
          "execution_count": 29
        }
      ],
      "source": [
        "np.argmax(prediction[0])"
      ]
    },
    {
      "cell_type": "code",
      "execution_count": 30,
      "id": "0a9fcc32",
      "metadata": {
        "id": "0a9fcc32",
        "colab": {
          "base_uri": "https://localhost:8080/"
        },
        "outputId": "ced2716a-bf60-40ea-d8c7-370a71e9734b"
      },
      "outputs": [
        {
          "output_type": "execute_result",
          "data": {
            "text/plain": [
              "array([0., 0., 0., 0., 0., 0., 0., 0., 0., 1.], dtype=float32)"
            ]
          },
          "metadata": {},
          "execution_count": 30
        }
      ],
      "source": [
        "Y_test[0]"
      ]
    },
    {
      "cell_type": "code",
      "execution_count": null,
      "id": "aa4c34dd",
      "metadata": {
        "id": "aa4c34dd"
      },
      "outputs": [],
      "source": []
    },
    {
      "cell_type": "code",
      "execution_count": null,
      "id": "47421ed1",
      "metadata": {
        "id": "47421ed1"
      },
      "outputs": [],
      "source": []
    },
    {
      "cell_type": "code",
      "execution_count": null,
      "id": "f57e11c3",
      "metadata": {
        "id": "f57e11c3"
      },
      "outputs": [],
      "source": []
    },
    {
      "cell_type": "code",
      "execution_count": null,
      "id": "a070bb84",
      "metadata": {
        "id": "a070bb84"
      },
      "outputs": [],
      "source": []
    },
    {
      "cell_type": "code",
      "execution_count": null,
      "id": "00784d43",
      "metadata": {
        "id": "00784d43"
      },
      "outputs": [],
      "source": []
    },
    {
      "cell_type": "code",
      "execution_count": null,
      "id": "ad3d1ae8",
      "metadata": {
        "id": "ad3d1ae8"
      },
      "outputs": [],
      "source": []
    },
    {
      "cell_type": "code",
      "execution_count": null,
      "id": "33f0fb0c",
      "metadata": {
        "id": "33f0fb0c"
      },
      "outputs": [],
      "source": []
    },
    {
      "cell_type": "code",
      "execution_count": null,
      "id": "88232a0a",
      "metadata": {
        "id": "88232a0a"
      },
      "outputs": [],
      "source": []
    },
    {
      "cell_type": "code",
      "execution_count": null,
      "id": "5bc60f02",
      "metadata": {
        "id": "5bc60f02"
      },
      "outputs": [],
      "source": []
    },
    {
      "cell_type": "code",
      "execution_count": null,
      "id": "ebab8629",
      "metadata": {
        "id": "ebab8629"
      },
      "outputs": [],
      "source": []
    },
    {
      "cell_type": "code",
      "execution_count": null,
      "id": "a0a03e97",
      "metadata": {
        "id": "a0a03e97"
      },
      "outputs": [],
      "source": []
    },
    {
      "cell_type": "code",
      "execution_count": null,
      "id": "9f5b9c09",
      "metadata": {
        "id": "9f5b9c09"
      },
      "outputs": [],
      "source": []
    },
    {
      "cell_type": "code",
      "execution_count": null,
      "id": "42172072",
      "metadata": {
        "id": "42172072"
      },
      "outputs": [],
      "source": []
    },
    {
      "cell_type": "code",
      "execution_count": null,
      "id": "4ab71e4f",
      "metadata": {
        "id": "4ab71e4f"
      },
      "outputs": [],
      "source": []
    },
    {
      "cell_type": "code",
      "execution_count": null,
      "id": "602938e2",
      "metadata": {
        "id": "602938e2"
      },
      "outputs": [],
      "source": []
    },
    {
      "cell_type": "code",
      "execution_count": null,
      "id": "cebd1417",
      "metadata": {
        "id": "cebd1417"
      },
      "outputs": [],
      "source": []
    },
    {
      "cell_type": "code",
      "execution_count": null,
      "id": "85a2d3eb",
      "metadata": {
        "id": "85a2d3eb"
      },
      "outputs": [],
      "source": []
    },
    {
      "cell_type": "code",
      "execution_count": null,
      "id": "3581ab49",
      "metadata": {
        "id": "3581ab49"
      },
      "outputs": [],
      "source": []
    }
  ],
  "metadata": {
    "kernelspec": {
      "display_name": "Python 3 (ipykernel)",
      "language": "python",
      "name": "python3"
    },
    "language_info": {
      "codemirror_mode": {
        "name": "ipython",
        "version": 3
      },
      "file_extension": ".py",
      "mimetype": "text/x-python",
      "name": "python",
      "nbconvert_exporter": "python",
      "pygments_lexer": "ipython3",
      "version": "3.9.13"
    },
    "colab": {
      "provenance": []
    },
    "accelerator": "GPU",
    "gpuClass": "standard"
  },
  "nbformat": 4,
  "nbformat_minor": 5
}