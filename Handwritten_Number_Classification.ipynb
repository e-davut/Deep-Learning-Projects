{
  "cells": [
    {
      "cell_type": "markdown",
      "id": "a06fef60",
      "metadata": {
        "id": "a06fef60"
      },
      "source": [
        "### Libraries"
      ]
    },
    {
      "cell_type": "code",
      "source": [
        "pip install visualkeras"
      ],
      "metadata": {
        "colab": {
          "base_uri": "https://localhost:8080/"
        },
        "id": "VLuOqyM5w54B",
        "outputId": "8e24028a-1def-4a23-83b4-a9944d10fcfd"
      },
      "id": "VLuOqyM5w54B",
      "execution_count": null,
      "outputs": [
        {
          "output_type": "stream",
          "name": "stdout",
          "text": [
            "Looking in indexes: https://pypi.org/simple, https://us-python.pkg.dev/colab-wheels/public/simple/\n",
            "Requirement already satisfied: visualkeras in /usr/local/lib/python3.8/dist-packages (0.0.2)\n",
            "Requirement already satisfied: pillow>=6.2.0 in /usr/local/lib/python3.8/dist-packages (from visualkeras) (8.4.0)\n",
            "Requirement already satisfied: numpy>=1.18.1 in /usr/local/lib/python3.8/dist-packages (from visualkeras) (1.22.4)\n",
            "Requirement already satisfied: aggdraw>=1.3.11 in /usr/local/lib/python3.8/dist-packages (from visualkeras) (1.3.16)\n"
          ]
        }
      ]
    },
    {
      "cell_type": "code",
      "execution_count": null,
      "id": "40c744d1",
      "metadata": {
        "id": "40c744d1"
      },
      "outputs": [],
      "source": [
        "import tensorflow as tf\n",
        "from tensorflow import keras\n",
        "from keras.datasets import mnist #to load dataset\n",
        "from keras.utils import to_categorical\n",
        "from keras import Input, Model\n",
        "from tensorflow.keras.layers import Flatten, Dense, Dropout, Conv1D, MaxPooling1D, GlobalMaxPooling1D\n",
        "import visualkeras\n",
        "import matplotlib.pyplot as plt\n",
        "from sklearn.metrics import accuracy_score, precision_score, recall_score, f1_score, confusion_matrix, ConfusionMatrixDisplay\n",
        "import pandas as pd\n",
        "import numpy as np\n",
        "import seaborn as sns"
      ]
    },
    {
      "cell_type": "markdown",
      "id": "cacce679",
      "metadata": {
        "id": "cacce679"
      },
      "source": [
        "### Dataset loading"
      ]
    },
    {
      "cell_type": "code",
      "execution_count": null,
      "id": "ce5eb9eb",
      "metadata": {
        "id": "ce5eb9eb"
      },
      "outputs": [],
      "source": [
        "(X_train, Y_train), (X_test, Y_test) = mnist.load_data() "
      ]
    },
    {
      "cell_type": "markdown",
      "id": "071b796b",
      "metadata": {
        "id": "071b796b"
      },
      "source": [
        "### Train - test basic info"
      ]
    },
    {
      "cell_type": "code",
      "execution_count": null,
      "id": "5b8bf447",
      "metadata": {
        "colab": {
          "base_uri": "https://localhost:8080/"
        },
        "id": "5b8bf447",
        "outputId": "78fa7b87-2697-41a2-f72d-892f610f467e"
      },
      "outputs": [
        {
          "output_type": "stream",
          "name": "stdout",
          "text": [
            "(60000, 28, 28)\n",
            "(60000,)\n",
            "(10000, 28, 28)\n",
            "(10000,)\n"
          ]
        }
      ],
      "source": [
        "print(X_train.shape)\n",
        "print(Y_train.shape)\n",
        "\n",
        "print(X_test.shape)\n",
        "print(Y_test.shape)"
      ]
    },
    {
      "cell_type": "code",
      "execution_count": null,
      "id": "cb578d26",
      "metadata": {
        "colab": {
          "base_uri": "https://localhost:8080/"
        },
        "id": "cb578d26",
        "outputId": "7919fe89-e6f5-4a8a-e305-03e43353ec11"
      },
      "outputs": [
        {
          "output_type": "execute_result",
          "data": {
            "text/plain": [
              "(array([5, 0, 4, ..., 5, 6, 8], dtype=uint8),\n",
              " array([7, 2, 1, ..., 4, 5, 6], dtype=uint8))"
            ]
          },
          "metadata": {},
          "execution_count": 5
        }
      ],
      "source": [
        "Y_train, Y_test"
      ]
    },
    {
      "cell_type": "markdown",
      "id": "a0c0a7e6",
      "metadata": {
        "id": "a0c0a7e6"
      },
      "source": [
        "### Data preprocessing"
      ]
    },
    {
      "cell_type": "code",
      "execution_count": null,
      "id": "54824e7f",
      "metadata": {
        "id": "54824e7f"
      },
      "outputs": [],
      "source": [
        "#Normalization\n",
        "\n",
        "X_train = X_train / 255.0\n",
        "X_test = X_test / 255.0"
      ]
    },
    {
      "cell_type": "code",
      "source": [
        "#Categorization\n",
        "\n",
        "Y_train = to_categorical(Y_train)\n",
        "Y_test = to_categorical(Y_test)"
      ],
      "metadata": {
        "id": "eRJnDh7Ktm2H"
      },
      "id": "eRJnDh7Ktm2H",
      "execution_count": null,
      "outputs": []
    },
    {
      "cell_type": "markdown",
      "id": "d3de469e",
      "metadata": {
        "id": "d3de469e"
      },
      "source": [
        "### Creating models and layers"
      ]
    },
    {
      "cell_type": "code",
      "source": [
        "input_shape=(28,28)"
      ],
      "metadata": {
        "id": "axQcPnPvrHeY"
      },
      "id": "axQcPnPvrHeY",
      "execution_count": null,
      "outputs": []
    },
    {
      "cell_type": "code",
      "execution_count": null,
      "id": "ad23e5c7",
      "metadata": {
        "id": "ad23e5c7"
      },
      "outputs": [],
      "source": [
        "#Sequential class\n",
        "\n",
        "model_seq = tf.keras.models.Sequential([\n",
        "    Flatten(input_shape=input_shape),\n",
        "    Dense(128, activation='relu'),\n",
        "    Dropout(0.2),\n",
        "    Dense(10, activation='softmax')\n",
        "])"
      ]
    },
    {
      "cell_type": "code",
      "execution_count": null,
      "id": "2f92f88f",
      "metadata": {
        "id": "2f92f88f"
      },
      "outputs": [],
      "source": [
        "#Model class\n",
        "\n",
        "input = Input(input_shape)\n",
        "X = Flatten()(input)\n",
        "X = Dense(128, activation='relu')(X)\n",
        "X = Dropout(0.2)(X)\n",
        "output = Dense(10, activation='softmax')(X)\n",
        "\n",
        "model = Model(input, output)\n"
      ]
    },
    {
      "cell_type": "code",
      "source": [
        "#CNN with model class\n",
        "\n",
        "input2 = Input(input_shape)\n",
        "X = Conv1D(16, kernel_size=3, activation='relu')(input2)\n",
        "X = Conv1D(32, 3, activation='relu')(X)\n",
        "X = MaxPooling1D(3)(X)\n",
        "X = Conv1D(32, 3, activation='relu')(X)\n",
        "X = Conv1D(16, 3, activation='relu')(X)\n",
        "X = GlobalMaxPooling1D()(X)\n",
        "X = Dropout(0.2)(X)\n",
        "output2 = Dense(10, activation='softmax')(X)\n",
        "\n",
        "model_cnn = Model(input2, output2)\n"
      ],
      "metadata": {
        "id": "TX3z-DJGQmTM"
      },
      "id": "TX3z-DJGQmTM",
      "execution_count": null,
      "outputs": []
    },
    {
      "cell_type": "code",
      "source": [
        "model.summary()"
      ],
      "metadata": {
        "colab": {
          "base_uri": "https://localhost:8080/"
        },
        "id": "awcw_xR_fm8Z",
        "outputId": "02b4b737-7b85-4e1e-c6aa-d24dcd2c0e9f"
      },
      "id": "awcw_xR_fm8Z",
      "execution_count": null,
      "outputs": [
        {
          "output_type": "stream",
          "name": "stdout",
          "text": [
            "Model: \"model\"\n",
            "_________________________________________________________________\n",
            " Layer (type)                Output Shape              Param #   \n",
            "=================================================================\n",
            " input_1 (InputLayer)        [(None, 28, 28)]          0         \n",
            "                                                                 \n",
            " flatten_1 (Flatten)         (None, 784)               0         \n",
            "                                                                 \n",
            " dense_2 (Dense)             (None, 128)               100480    \n",
            "                                                                 \n",
            " dropout_1 (Dropout)         (None, 128)               0         \n",
            "                                                                 \n",
            " dense_3 (Dense)             (None, 10)                1290      \n",
            "                                                                 \n",
            "=================================================================\n",
            "Total params: 101,770\n",
            "Trainable params: 101,770\n",
            "Non-trainable params: 0\n",
            "_________________________________________________________________\n"
          ]
        }
      ]
    },
    {
      "cell_type": "code",
      "source": [
        "model_cnn.summary()"
      ],
      "metadata": {
        "colab": {
          "base_uri": "https://localhost:8080/"
        },
        "id": "VmPPIbiGfrUg",
        "outputId": "61acfc98-0468-45ea-bcef-8c5a088ab5d6"
      },
      "id": "VmPPIbiGfrUg",
      "execution_count": null,
      "outputs": [
        {
          "output_type": "stream",
          "name": "stdout",
          "text": [
            "Model: \"model_1\"\n",
            "_________________________________________________________________\n",
            " Layer (type)                Output Shape              Param #   \n",
            "=================================================================\n",
            " input_2 (InputLayer)        [(None, 28, 28)]          0         \n",
            "                                                                 \n",
            " conv1d (Conv1D)             (None, 26, 16)            1360      \n",
            "                                                                 \n",
            " conv1d_1 (Conv1D)           (None, 24, 32)            1568      \n",
            "                                                                 \n",
            " max_pooling1d (MaxPooling1D  (None, 8, 32)            0         \n",
            " )                                                               \n",
            "                                                                 \n",
            " conv1d_2 (Conv1D)           (None, 6, 32)             3104      \n",
            "                                                                 \n",
            " conv1d_3 (Conv1D)           (None, 4, 16)             1552      \n",
            "                                                                 \n",
            " global_max_pooling1d (Globa  (None, 16)               0         \n",
            " lMaxPooling1D)                                                  \n",
            "                                                                 \n",
            " dropout_2 (Dropout)         (None, 16)                0         \n",
            "                                                                 \n",
            " dense_4 (Dense)             (None, 10)                170       \n",
            "                                                                 \n",
            "=================================================================\n",
            "Total params: 7,754\n",
            "Trainable params: 7,754\n",
            "Non-trainable params: 0\n",
            "_________________________________________________________________\n"
          ]
        }
      ]
    },
    {
      "cell_type": "code",
      "source": [
        "# Visualization\n",
        "visualkeras.layered_view(model_seq, legend=True)"
      ],
      "metadata": {
        "colab": {
          "base_uri": "https://localhost:8080/",
          "height": 106
        },
        "id": "D0ROPq8pxW6p",
        "outputId": "982d5766-9d5d-4662-becc-4b53e78c0027"
      },
      "id": "D0ROPq8pxW6p",
      "execution_count": null,
      "outputs": [
        {
          "output_type": "execute_result",
          "data": {
            "text/plain": [
              "<PIL.Image.Image image mode=RGBA size=196x89 at 0x7F0523FDBEE0>"
            ],
            "image/png": "[encoded data removed]"
          },
          "metadata": {},
          "execution_count": 14
        }
      ]
    },
    {
      "cell_type": "markdown",
      "id": "2916ba71",
      "metadata": {
        "id": "2916ba71"
      },
      "source": [
        "### Model configuration"
      ]
    },
    {
      "cell_type": "code",
      "execution_count": null,
      "id": "1c360716",
      "metadata": {
        "id": "1c360716"
      },
      "outputs": [],
      "source": [
        "model.compile(optimizer='Adam', \n",
        "              loss='categorical_crossentropy',\n",
        "              metrics=['accuracy'])"
      ]
    },
    {
      "cell_type": "code",
      "source": [
        "model_cnn.compile(optimizer='Adam', \n",
        "              loss='categorical_crossentropy',\n",
        "              metrics=['accuracy'])"
      ],
      "metadata": {
        "id": "8QWIpaiuXYPp"
      },
      "id": "8QWIpaiuXYPp",
      "execution_count": null,
      "outputs": []
    },
    {
      "cell_type": "markdown",
      "id": "688fbd68",
      "metadata": {
        "id": "688fbd68"
      },
      "source": [
        "### Model fitting"
      ]
    },
    {
      "cell_type": "code",
      "execution_count": null,
      "id": "55901bc7",
      "metadata": {
        "colab": {
          "base_uri": "https://localhost:8080/"
        },
        "id": "55901bc7",
        "outputId": "b7ace7a9-edc0-400a-96e2-ee4ca55f8e6b"
      },
      "outputs": [
        {
          "output_type": "stream",
          "name": "stdout",
          "text": [
            "Epoch 1/10\n",
            "375/375 [==============================] - 5s 10ms/step - loss: 0.4459 - accuracy: 0.8735 - val_loss: 0.2158 - val_accuracy: 0.9395\n",
            "Epoch 2/10\n",
            "375/375 [==============================] - 4s 10ms/step - loss: 0.2169 - accuracy: 0.9366 - val_loss: 0.1599 - val_accuracy: 0.9543\n",
            "Epoch 3/10\n",
            "375/375 [==============================] - 6s 17ms/step - loss: 0.1642 - accuracy: 0.9525 - val_loss: 0.1344 - val_accuracy: 0.9599\n",
            "Epoch 4/10\n",
            "375/375 [==============================] - 5s 14ms/step - loss: 0.1338 - accuracy: 0.9613 - val_loss: 0.1117 - val_accuracy: 0.9682\n",
            "Epoch 5/10\n",
            "375/375 [==============================] - 5s 14ms/step - loss: 0.1136 - accuracy: 0.9668 - val_loss: 0.1023 - val_accuracy: 0.9698\n",
            "Epoch 6/10\n",
            "375/375 [==============================] - 6s 16ms/step - loss: 0.0973 - accuracy: 0.9713 - val_loss: 0.0956 - val_accuracy: 0.9718\n",
            "Epoch 7/10\n",
            "375/375 [==============================] - 5s 14ms/step - loss: 0.0853 - accuracy: 0.9744 - val_loss: 0.0886 - val_accuracy: 0.9732\n",
            "Epoch 8/10\n",
            "375/375 [==============================] - 5s 14ms/step - loss: 0.0760 - accuracy: 0.9766 - val_loss: 0.0862 - val_accuracy: 0.9739\n",
            "Epoch 9/10\n",
            "375/375 [==============================] - 3s 8ms/step - loss: 0.0685 - accuracy: 0.9795 - val_loss: 0.0847 - val_accuracy: 0.9754\n",
            "Epoch 10/10\n",
            "375/375 [==============================] - 3s 7ms/step - loss: 0.0623 - accuracy: 0.9806 - val_loss: 0.0826 - val_accuracy: 0.9753\n"
          ]
        }
      ],
      "source": [
        "history = model.fit(X_train, Y_train, validation_split=0.2, epochs=10, batch_size=128)"
      ]
    },
    {
      "cell_type": "code",
      "source": [
        "history_cnn = model_cnn.fit(X_train, Y_train, validation_split=0.2, epochs=10, batch_size=128)"
      ],
      "metadata": {
        "colab": {
          "base_uri": "https://localhost:8080/"
        },
        "id": "Yl2B_wQEXdJD",
        "outputId": "f387d012-395e-4b4e-adc9-468a3bb52e2d"
      },
      "id": "Yl2B_wQEXdJD",
      "execution_count": null,
      "outputs": [
        {
          "output_type": "stream",
          "name": "stdout",
          "text": [
            "Epoch 1/10\n",
            "375/375 [==============================] - 7s 16ms/step - loss: 1.1572 - accuracy: 0.6117 - val_loss: 0.3547 - val_accuracy: 0.9069\n",
            "Epoch 2/10\n",
            "375/375 [==============================] - 5s 13ms/step - loss: 0.4854 - accuracy: 0.8486 - val_loss: 0.2081 - val_accuracy: 0.9410\n",
            "Epoch 3/10\n",
            "375/375 [==============================] - 5s 13ms/step - loss: 0.3451 - accuracy: 0.8903 - val_loss: 0.1596 - val_accuracy: 0.9515\n",
            "Epoch 4/10\n",
            "375/375 [==============================] - 6s 16ms/step - loss: 0.2920 - accuracy: 0.9087 - val_loss: 0.1338 - val_accuracy: 0.9600\n",
            "Epoch 5/10\n",
            "375/375 [==============================] - 5s 13ms/step - loss: 0.2546 - accuracy: 0.9215 - val_loss: 0.1226 - val_accuracy: 0.9638\n",
            "Epoch 6/10\n",
            "375/375 [==============================] - 6s 15ms/step - loss: 0.2316 - accuracy: 0.9291 - val_loss: 0.1123 - val_accuracy: 0.9665\n",
            "Epoch 7/10\n",
            "375/375 [==============================] - 5s 13ms/step - loss: 0.2140 - accuracy: 0.9357 - val_loss: 0.1102 - val_accuracy: 0.9657\n",
            "Epoch 8/10\n",
            "375/375 [==============================] - 5s 13ms/step - loss: 0.1980 - accuracy: 0.9391 - val_loss: 0.0950 - val_accuracy: 0.9712\n",
            "Epoch 9/10\n",
            "375/375 [==============================] - 6s 16ms/step - loss: 0.1829 - accuracy: 0.9442 - val_loss: 0.0963 - val_accuracy: 0.9725\n",
            "Epoch 10/10\n",
            "375/375 [==============================] - 5s 12ms/step - loss: 0.1658 - accuracy: 0.9498 - val_loss: 0.0939 - val_accuracy: 0.9709\n"
          ]
        }
      ]
    },
    {
      "cell_type": "markdown",
      "id": "394b266a",
      "metadata": {
        "id": "394b266a"
      },
      "source": [
        "### Evaluation"
      ]
    },
    {
      "cell_type": "code",
      "execution_count": null,
      "id": "6b82a605",
      "metadata": {
        "colab": {
          "base_uri": "https://localhost:8080/"
        },
        "id": "6b82a605",
        "outputId": "8cc3eb5c-35ca-445a-84a1-80809ecc32f0"
      },
      "outputs": [
        {
          "output_type": "stream",
          "name": "stdout",
          "text": [
            "313/313 [==============================] - 1s 2ms/step - loss: 0.0750 - accuracy: 0.9763\n"
          ]
        },
        {
          "output_type": "execute_result",
          "data": {
            "text/plain": [
              "[0.07500375807285309, 0.9763000011444092]"
            ]
          },
          "metadata": {},
          "execution_count": 19
        }
      ],
      "source": [
        "model.evaluate(X_test, Y_test)"
      ]
    },
    {
      "cell_type": "code",
      "source": [
        "model_cnn.evaluate(X_test, Y_test)"
      ],
      "metadata": {
        "colab": {
          "base_uri": "https://localhost:8080/"
        },
        "id": "NCi-RyUQXlOq",
        "outputId": "403c291a-d287-45db-d895-6e31c9d716b8"
      },
      "id": "NCi-RyUQXlOq",
      "execution_count": null,
      "outputs": [
        {
          "output_type": "stream",
          "name": "stdout",
          "text": [
            "313/313 [==============================] - 1s 3ms/step - loss: 0.0852 - accuracy: 0.9732\n"
          ]
        },
        {
          "output_type": "execute_result",
          "data": {
            "text/plain": [
              "[0.0851968303322792, 0.9732000231742859]"
            ]
          },
          "metadata": {},
          "execution_count": 20
        }
      ]
    },
    {
      "cell_type": "code",
      "execution_count": null,
      "id": "bfe508b5",
      "metadata": {
        "colab": {
          "base_uri": "https://localhost:8080/",
          "height": 573
        },
        "id": "bfe508b5",
        "outputId": "b617541b-1966-4fb4-859a-734208810545"
      },
      "outputs": [
        {
          "output_type": "display_data",
          "data": {
            "text/plain": [
              "<Figure size 432x288 with 1 Axes>"
            ],
            "image/png": "[encoded data removed]"
          },
          "metadata": {
            "needs_background": "light"
          }
        },
        {
          "output_type": "display_data",
          "data": {
            "text/plain": [
              "<Figure size 432x288 with 1 Axes>"
            ],
            "image/png": "[encoded data removed]"
          },
          "metadata": {
            "needs_background": "light"
          }
        }
      ],
      "source": [
        "plt.plot(history.history['accuracy'])\n",
        "plt.plot(history.history['val_accuracy'])\n",
        "plt.title('Model accuracy')\n",
        "plt.ylabel('Accuracy')\n",
        "plt.xlabel('Epoch')\n",
        "plt.legend(['Train', 'Validation'], loc='upper left')\n",
        "plt.show()\n",
        "\n",
        "plt.plot(history.history['loss'])\n",
        "plt.plot(history.history['val_loss'])\n",
        "plt.title('Model loss')\n",
        "plt.ylabel('Loss')\n",
        "plt.xlabel('Epoch')\n",
        "plt.legend(['Train', 'Validation'], loc='upper right')\n",
        "plt.show()"
      ]
    },
    {
      "cell_type": "code",
      "source": [
        "plt.plot(history_cnn.history['accuracy'])\n",
        "plt.plot(history_cnn.history['val_accuracy'])\n",
        "plt.title('Model accuracy')\n",
        "plt.ylabel('Accuracy')\n",
        "plt.xlabel('Epoch')\n",
        "plt.legend(['Train', 'Validation'], loc='upper left')\n",
        "plt.show()\n",
        "\n",
        "plt.plot(history_cnn.history['loss'])\n",
        "plt.plot(history_cnn.history['val_loss'])\n",
        "plt.title('Model loss')\n",
        "plt.ylabel('Loss')\n",
        "plt.xlabel('Epoch')\n",
        "plt.legend(['Train', 'Validation'], loc='upper right')\n",
        "plt.show()"
      ],
      "metadata": {
        "colab": {
          "base_uri": "https://localhost:8080/",
          "height": 573
        },
        "id": "Gevc_C37fUcC",
        "outputId": "fcb75cf3-46b1-4e5d-a8c0-2a723bce3bf9"
      },
      "id": "Gevc_C37fUcC",
      "execution_count": null,
      "outputs": [
        {
          "output_type": "display_data",
          "data": {
            "text/plain": [
              "<Figure size 432x288 with 1 Axes>"
            ],
            "image/png": "[encoded data removed]"
          },
          "metadata": {
            "needs_background": "light"
          }
        },
        {
          "output_type": "display_data",
          "data": {
            "text/plain": [
              "<Figure size 432x288 with 1 Axes>"
            ],
            "image/png": "[encoded data removed]"
          },
          "metadata": {
            "needs_background": "light"
          }
        }
      ]
    },
    {
      "cell_type": "code",
      "execution_count": null,
      "id": "4ee7e69c",
      "metadata": {
        "colab": {
          "base_uri": "https://localhost:8080/",
          "height": 667
        },
        "id": "4ee7e69c",
        "outputId": "a53ccf10-a586-4634-a705-674710b0ed80"
      },
      "outputs": [
        {
          "output_type": "stream",
          "name": "stdout",
          "text": [
            "313/313 [==============================] - 1s 3ms/step\n",
            "Accuracy: 0.9763\n",
            "Precision: 0.9761399798967225\n",
            "Recall: 0.976219655443716\n",
            "F1 Score: 0.9761347171081673\n"
          ]
        },
        {
          "output_type": "display_data",
          "data": {
            "text/plain": [
              "<Figure size 720x720 with 2 Axes>"
            ],
            "image/png": "[encoded data removed]"
          },
          "metadata": {
            "needs_background": "light"
          }
        }
      ],
      "source": [
        "Y_pred = model.predict(X_test, verbose=1)\n",
        "Y_pred = np.argmax(Y_pred, axis=1)\n",
        "Y_test_cal = np.argmax(Y_test, axis=1)\n",
        "\n",
        "accuracy = accuracy_score(Y_test_cal, Y_pred)\n",
        "precision = precision_score(Y_test_cal, Y_pred, average='macro')\n",
        "recall = recall_score(Y_test_cal, Y_pred, average='macro')\n",
        "f1 = f1_score(Y_test_cal, Y_pred, average='macro')\n",
        "cm = confusion_matrix(Y_test_cal, Y_pred)\n",
        "\n",
        "print(\"Accuracy:\", accuracy)\n",
        "print(\"Precision:\", precision)\n",
        "print(\"Recall:\", recall)\n",
        "print(\"F1 Score:\", f1)\n",
        "\n",
        "#sns.heatmap(cm, annot=True)\n",
        "cm_display = ConfusionMatrixDisplay(confusion_matrix=cm)\n",
        "fig, ax = plt.subplots(figsize=(10, 10))\n",
        "cm_display.plot(ax=ax, cmap=plt.cm.Blues)\n",
        "plt.xticks(fontsize=14)\n",
        "plt.yticks(fontsize=14)\n",
        "plt.xlabel('Predicted label', fontsize=16)\n",
        "plt.ylabel('True label', fontsize=16)\n",
        "plt.show()"
      ]
    },
    {
      "cell_type": "code",
      "execution_count": null,
      "id": "5d6f5a89",
      "metadata": {
        "id": "5d6f5a89",
        "colab": {
          "base_uri": "https://localhost:8080/",
          "height": 667
        },
        "outputId": "8278da5f-578f-4422-aed3-a106df1c954c"
      },
      "outputs": [
        {
          "output_type": "stream",
          "name": "stdout",
          "text": [
            "313/313 [==============================] - 1s 2ms/step\n",
            "Accuracy: 0.9732\n",
            "Precision: 0.9734166668525559\n",
            "Recall: 0.9728666989870829\n",
            "F1 Score: 0.9730645121408577\n"
          ]
        },
        {
          "output_type": "display_data",
          "data": {
            "text/plain": [
              "<Figure size 720x720 with 2 Axes>"
            ],
            "image/png": "[encoded data removed]"
          },
          "metadata": {
            "needs_background": "light"
          }
        }
      ],
      "source": [
        "Y_pred = model_cnn.predict(X_test, verbose=1)\n",
        "Y_pred = np.argmax(Y_pred, axis=1)\n",
        "Y_test_cal = np.argmax(Y_test, axis=1)\n",
        "\n",
        "accuracy = accuracy_score(Y_test_cal, Y_pred)\n",
        "precision = precision_score(Y_test_cal, Y_pred, average='macro')\n",
        "recall = recall_score(Y_test_cal, Y_pred, average='macro')\n",
        "f1 = f1_score(Y_test_cal, Y_pred, average='macro')\n",
        "cm = confusion_matrix(Y_test_cal, Y_pred)\n",
        "\n",
        "print(\"Accuracy:\", accuracy)\n",
        "print(\"Precision:\", precision)\n",
        "print(\"Recall:\", recall)\n",
        "print(\"F1 Score:\", f1)\n",
        "\n",
        "#sns.heatmap(cm, annot=True)\n",
        "cm_display = ConfusionMatrixDisplay(confusion_matrix=cm)\n",
        "fig, ax = plt.subplots(figsize=(10, 10))\n",
        "cm_display.plot(ax=ax, cmap=plt.cm.Blues)\n",
        "plt.xticks(fontsize=14)\n",
        "plt.yticks(fontsize=14)\n",
        "plt.xlabel('Predicted label', fontsize=16)\n",
        "plt.ylabel('True label', fontsize=16)\n",
        "plt.show()"
      ]
    },
    {
      "cell_type": "code",
      "execution_count": null,
      "id": "d0ea4ab9",
      "metadata": {
        "id": "d0ea4ab9"
      },
      "outputs": [],
      "source": []
    },
    {
      "cell_type": "code",
      "execution_count": null,
      "id": "d981054e",
      "metadata": {
        "id": "d981054e"
      },
      "outputs": [],
      "source": []
    },
    {
      "cell_type": "code",
      "execution_count": null,
      "id": "2d3aa107",
      "metadata": {
        "id": "2d3aa107"
      },
      "outputs": [],
      "source": []
    },
    {
      "cell_type": "code",
      "execution_count": null,
      "id": "4cda7e39",
      "metadata": {
        "id": "4cda7e39"
      },
      "outputs": [],
      "source": []
    },
    {
      "cell_type": "code",
      "execution_count": null,
      "id": "fa8ec367",
      "metadata": {
        "id": "fa8ec367"
      },
      "outputs": [],
      "source": []
    },
    {
      "cell_type": "code",
      "execution_count": null,
      "id": "054e166b",
      "metadata": {
        "id": "054e166b"
      },
      "outputs": [],
      "source": []
    },
    {
      "cell_type": "code",
      "execution_count": null,
      "id": "58c33d98",
      "metadata": {
        "id": "58c33d98"
      },
      "outputs": [],
      "source": []
    },
    {
      "cell_type": "code",
      "execution_count": null,
      "id": "1cb15e0f",
      "metadata": {
        "id": "1cb15e0f"
      },
      "outputs": [],
      "source": []
    },
    {
      "cell_type": "code",
      "execution_count": null,
      "id": "96c6782a",
      "metadata": {
        "id": "96c6782a"
      },
      "outputs": [],
      "source": []
    },
    {
      "cell_type": "code",
      "execution_count": null,
      "id": "465d71e1",
      "metadata": {
        "id": "465d71e1"
      },
      "outputs": [],
      "source": []
    },
    {
      "cell_type": "code",
      "execution_count": null,
      "id": "115369f9",
      "metadata": {
        "id": "115369f9"
      },
      "outputs": [],
      "source": []
    },
    {
      "cell_type": "code",
      "execution_count": null,
      "id": "cf33a8b0",
      "metadata": {
        "id": "cf33a8b0"
      },
      "outputs": [],
      "source": []
    },
    {
      "cell_type": "code",
      "execution_count": null,
      "id": "9b6d13ca",
      "metadata": {
        "id": "9b6d13ca"
      },
      "outputs": [],
      "source": []
    },
    {
      "cell_type": "code",
      "execution_count": null,
      "id": "95865307",
      "metadata": {
        "id": "95865307"
      },
      "outputs": [],
      "source": []
    },
    {
      "cell_type": "code",
      "execution_count": null,
      "id": "51868244",
      "metadata": {
        "id": "51868244"
      },
      "outputs": [],
      "source": []
    },
    {
      "cell_type": "code",
      "execution_count": null,
      "id": "5892b375",
      "metadata": {
        "id": "5892b375"
      },
      "outputs": [],
      "source": []
    },
    {
      "cell_type": "code",
      "execution_count": null,
      "id": "80d154a2",
      "metadata": {
        "id": "80d154a2"
      },
      "outputs": [],
      "source": []
    },
    {
      "cell_type": "code",
      "execution_count": null,
      "id": "55c8350f",
      "metadata": {
        "id": "55c8350f"
      },
      "outputs": [],
      "source": []
    },
    {
      "cell_type": "code",
      "execution_count": null,
      "id": "22af6ac6",
      "metadata": {
        "id": "22af6ac6"
      },
      "outputs": [],
      "source": []
    },
    {
      "cell_type": "code",
      "execution_count": null,
      "id": "3ddd55bd",
      "metadata": {
        "id": "3ddd55bd"
      },
      "outputs": [],
      "source": []
    },
    {
      "cell_type": "code",
      "execution_count": null,
      "id": "b3e1c36f",
      "metadata": {
        "id": "b3e1c36f"
      },
      "outputs": [],
      "source": []
    }
  ],
  "metadata": {
    "kernelspec": {
      "display_name": "Python 3 (ipykernel)",
      "language": "python",
      "name": "python3"
    },
    "language_info": {
      "codemirror_mode": {
        "name": "ipython",
        "version": 3
      },
      "file_extension": ".py",
      "mimetype": "text/x-python",
      "name": "python",
      "nbconvert_exporter": "python",
      "pygments_lexer": "ipython3",
      "version": "3.9.13"
    },
    "colab": {
      "provenance": []
    }
  },
  "nbformat": 4,
  "nbformat_minor": 5
}