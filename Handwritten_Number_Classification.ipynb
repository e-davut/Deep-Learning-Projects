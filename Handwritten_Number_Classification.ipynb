{
  "cells": [
    {
      "cell_type": "markdown",
      "id": "a06fef60",
      "metadata": {
        "id": "a06fef60"
      },
      "source": [
        "### Libraries"
      ]
    },
    {
      "cell_type": "code",
      "source": [
        "pip install visualkeras"
      ],
      "metadata": {
        "colab": {
          "base_uri": "https://localhost:8080/"
        },
        "id": "VLuOqyM5w54B",
        "outputId": "ed1a208f-b00a-42e7-f5cc-3c0161082ca0"
      },
      "id": "VLuOqyM5w54B",
      "execution_count": 1,
      "outputs": [
        {
          "output_type": "stream",
          "name": "stdout",
          "text": [
            "Looking in indexes: https://pypi.org/simple, https://us-python.pkg.dev/colab-wheels/public/simple/\n",
            "Collecting visualkeras\n",
            "  Downloading visualkeras-0.0.2-py3-none-any.whl (12 kB)\n",
            "Collecting aggdraw>=1.3.11\n",
            "  Downloading aggdraw-1.3.16-cp39-cp39-manylinux_2_17_x86_64.manylinux2014_x86_64.whl (992 kB)\n",
            "\u001b[2K     \u001b[90m━━━━━━━━━━━━━━━━━━━━━━━━━━━━━━━━━━━━━━\u001b[0m \u001b[32m992.0/992.0 KB\u001b[0m \u001b[31m27.4 MB/s\u001b[0m eta \u001b[36m0:00:00\u001b[0m\n",
            "\u001b[?25hRequirement already satisfied: numpy>=1.18.1 in /usr/local/lib/python3.9/dist-packages (from visualkeras) (1.22.4)\n",
            "Requirement already satisfied: pillow>=6.2.0 in /usr/local/lib/python3.9/dist-packages (from visualkeras) (8.4.0)\n",
            "Installing collected packages: aggdraw, visualkeras\n",
            "Successfully installed aggdraw-1.3.16 visualkeras-0.0.2\n"
          ]
        }
      ]
    },
    {
      "cell_type": "code",
      "execution_count": 18,
      "id": "40c744d1",
      "metadata": {
        "id": "40c744d1"
      },
      "outputs": [],
      "source": [
        "import tensorflow as tf\n",
        "from tensorflow import keras\n",
        "from keras.datasets import mnist\n",
        "from keras.utils import to_categorical\n",
        "from keras import Input, Model\n",
        "from tensorflow.keras.layers import Flatten, Dense, Dropout, Conv2D, MaxPooling2D, GlobalMaxPooling2D, Reshape\n",
        "import visualkeras\n",
        "import matplotlib.pyplot as plt\n",
        "from sklearn.metrics import accuracy_score, precision_score, recall_score, f1_score, confusion_matrix, ConfusionMatrixDisplay\n",
        "import pandas as pd\n",
        "import numpy as np\n",
        "import seaborn as sns"
      ]
    },
    {
      "cell_type": "markdown",
      "id": "cacce679",
      "metadata": {
        "id": "cacce679"
      },
      "source": [
        "### Dataset loading"
      ]
    },
    {
      "cell_type": "code",
      "execution_count": 3,
      "id": "ce5eb9eb",
      "metadata": {
        "id": "ce5eb9eb",
        "colab": {
          "base_uri": "https://localhost:8080/"
        },
        "outputId": "b237a457-ed89-4c2c-978a-4253cc34d826"
      },
      "outputs": [
        {
          "output_type": "stream",
          "name": "stdout",
          "text": [
            "Downloading data from https://storage.googleapis.com/tensorflow/tf-keras-datasets/mnist.npz\n",
            "11490434/11490434 [==============================] - 0s 0us/step\n"
          ]
        }
      ],
      "source": [
        "(X_train, Y_train), (X_test, Y_test) = mnist.load_data() "
      ]
    },
    {
      "cell_type": "markdown",
      "id": "071b796b",
      "metadata": {
        "id": "071b796b"
      },
      "source": [
        "### Train - test basic info"
      ]
    },
    {
      "cell_type": "code",
      "execution_count": 4,
      "id": "5b8bf447",
      "metadata": {
        "colab": {
          "base_uri": "https://localhost:8080/"
        },
        "id": "5b8bf447",
        "outputId": "e3b65b27-e795-4a8d-c431-cf25da1eaa41"
      },
      "outputs": [
        {
          "output_type": "stream",
          "name": "stdout",
          "text": [
            "(60000, 28, 28)\n",
            "(60000,)\n",
            "(10000, 28, 28)\n",
            "(10000,)\n"
          ]
        }
      ],
      "source": [
        "print(X_train.shape)\n",
        "print(Y_train.shape)\n",
        "\n",
        "print(X_test.shape)\n",
        "print(Y_test.shape)"
      ]
    },
    {
      "cell_type": "code",
      "execution_count": 5,
      "id": "cb578d26",
      "metadata": {
        "colab": {
          "base_uri": "https://localhost:8080/"
        },
        "id": "cb578d26",
        "outputId": "1dd6ae3c-9dc9-4f22-a3e6-615b340c4802"
      },
      "outputs": [
        {
          "output_type": "execute_result",
          "data": {
            "text/plain": [
              "(array([5, 0, 4, ..., 5, 6, 8], dtype=uint8),\n",
              " array([7, 2, 1, ..., 4, 5, 6], dtype=uint8))"
            ]
          },
          "metadata": {},
          "execution_count": 5
        }
      ],
      "source": [
        "Y_train, Y_test"
      ]
    },
    {
      "cell_type": "markdown",
      "id": "a0c0a7e6",
      "metadata": {
        "id": "a0c0a7e6"
      },
      "source": [
        "### Data preprocessing"
      ]
    },
    {
      "cell_type": "code",
      "execution_count": 6,
      "id": "54824e7f",
      "metadata": {
        "id": "54824e7f"
      },
      "outputs": [],
      "source": [
        "#Normalization\n",
        "\n",
        "X_train = X_train / 255.0\n",
        "X_test = X_test / 255.0"
      ]
    },
    {
      "cell_type": "code",
      "source": [
        "#Categorization\n",
        "\n",
        "Y_train = to_categorical(Y_train)\n",
        "Y_test = to_categorical(Y_test)"
      ],
      "metadata": {
        "id": "eRJnDh7Ktm2H"
      },
      "id": "eRJnDh7Ktm2H",
      "execution_count": 7,
      "outputs": []
    },
    {
      "cell_type": "markdown",
      "id": "d3de469e",
      "metadata": {
        "id": "d3de469e"
      },
      "source": [
        "### Creating models and layers"
      ]
    },
    {
      "cell_type": "code",
      "source": [
        "input_shape=(28,28)"
      ],
      "metadata": {
        "id": "axQcPnPvrHeY"
      },
      "id": "axQcPnPvrHeY",
      "execution_count": 15,
      "outputs": []
    },
    {
      "cell_type": "code",
      "execution_count": 16,
      "id": "ad23e5c7",
      "metadata": {
        "id": "ad23e5c7"
      },
      "outputs": [],
      "source": [
        "#Sequential class\n",
        "\n",
        "model_seq = tf.keras.models.Sequential([\n",
        "    Flatten(input_shape=input_shape),\n",
        "    Dense(128, activation='relu'),\n",
        "    Dropout(0.2),\n",
        "    Dense(10, activation='softmax')\n",
        "])"
      ]
    },
    {
      "cell_type": "code",
      "execution_count": 10,
      "id": "2f92f88f",
      "metadata": {
        "id": "2f92f88f"
      },
      "outputs": [],
      "source": [
        "#Model class\n",
        "\n",
        "input = Input(input_shape)\n",
        "X = Flatten()(input)\n",
        "X = Dense(128, activation='relu')(X)\n",
        "X = Dropout(0.2)(X)\n",
        "output = Dense(10, activation='softmax')(X)\n",
        "\n",
        "model = Model(input, output)\n"
      ]
    },
    {
      "cell_type": "code",
      "source": [
        "#CNN with model class\n",
        "\n",
        "input2 = Input(input_shape)\n",
        "X = Reshape((28, 28, 1))(input2)\n",
        "X = Conv2D(16, kernel_size=3, activation='relu')(X)\n",
        "X = Conv2D(32, 3, activation='relu')(X)\n",
        "X = MaxPooling2D(3)(X)\n",
        "X = Conv2D(32, 3, activation='relu')(X)\n",
        "X = Conv2D(16, 3, activation='relu')(X)\n",
        "X = GlobalMaxPooling2D()(X)\n",
        "X = Dropout(0.2)(X)\n",
        "output2 = Dense(10, activation='softmax')(X)\n",
        "\n",
        "model_cnn = Model(input2, output2)\n"
      ],
      "metadata": {
        "id": "TX3z-DJGQmTM"
      },
      "id": "TX3z-DJGQmTM",
      "execution_count": 20,
      "outputs": []
    },
    {
      "cell_type": "code",
      "source": [
        "model.summary()"
      ],
      "metadata": {
        "colab": {
          "base_uri": "https://localhost:8080/"
        },
        "id": "awcw_xR_fm8Z",
        "outputId": "92e4281d-c8c0-4ea2-b500-7a4a7f05b45a"
      },
      "id": "awcw_xR_fm8Z",
      "execution_count": 21,
      "outputs": [
        {
          "output_type": "stream",
          "name": "stdout",
          "text": [
            "Model: \"model\"\n",
            "_________________________________________________________________\n",
            " Layer (type)                Output Shape              Param #   \n",
            "=================================================================\n",
            " input_1 (InputLayer)        [(None, 28, 28)]          0         \n",
            "                                                                 \n",
            " flatten_1 (Flatten)         (None, 784)               0         \n",
            "                                                                 \n",
            " dense_2 (Dense)             (None, 128)               100480    \n",
            "                                                                 \n",
            " dropout_1 (Dropout)         (None, 128)               0         \n",
            "                                                                 \n",
            " dense_3 (Dense)             (None, 10)                1290      \n",
            "                                                                 \n",
            "=================================================================\n",
            "Total params: 101,770\n",
            "Trainable params: 101,770\n",
            "Non-trainable params: 0\n",
            "_________________________________________________________________\n"
          ]
        }
      ]
    },
    {
      "cell_type": "code",
      "source": [
        "model_cnn.summary()"
      ],
      "metadata": {
        "colab": {
          "base_uri": "https://localhost:8080/"
        },
        "id": "VmPPIbiGfrUg",
        "outputId": "a491e247-0a5d-46cc-ed4a-1a9b8b2a4165"
      },
      "id": "VmPPIbiGfrUg",
      "execution_count": 22,
      "outputs": [
        {
          "output_type": "stream",
          "name": "stdout",
          "text": [
            "Model: \"model_1\"\n",
            "_________________________________________________________________\n",
            " Layer (type)                Output Shape              Param #   \n",
            "=================================================================\n",
            " input_5 (InputLayer)        [(None, 28, 28)]          0         \n",
            "                                                                 \n",
            " reshape_1 (Reshape)         (None, 28, 28, 1)         0         \n",
            "                                                                 \n",
            " conv2d_2 (Conv2D)           (None, 26, 26, 16)        160       \n",
            "                                                                 \n",
            " conv2d_3 (Conv2D)           (None, 24, 24, 32)        4640      \n",
            "                                                                 \n",
            " max_pooling2d (MaxPooling2D  (None, 8, 8, 32)         0         \n",
            " )                                                               \n",
            "                                                                 \n",
            " conv2d_4 (Conv2D)           (None, 6, 6, 32)          9248      \n",
            "                                                                 \n",
            " conv2d_5 (Conv2D)           (None, 4, 4, 16)          4624      \n",
            "                                                                 \n",
            " global_max_pooling2d (Globa  (None, 16)               0         \n",
            " lMaxPooling2D)                                                  \n",
            "                                                                 \n",
            " dropout_4 (Dropout)         (None, 16)                0         \n",
            "                                                                 \n",
            " dense_8 (Dense)             (None, 10)                170       \n",
            "                                                                 \n",
            "=================================================================\n",
            "Total params: 18,842\n",
            "Trainable params: 18,842\n",
            "Non-trainable params: 0\n",
            "_________________________________________________________________\n"
          ]
        }
      ]
    },
    {
      "cell_type": "code",
      "source": [
        "# Visualization\n",
        "visualkeras.layered_view(model_seq, legend=True)"
      ],
      "metadata": {
        "colab": {
          "base_uri": "https://localhost:8080/",
          "height": 106
        },
        "id": "D0ROPq8pxW6p",
        "outputId": "4e97de5c-20a3-485a-8291-9201c9914d32"
      },
      "id": "D0ROPq8pxW6p",
      "execution_count": 23,
      "outputs": [
        {
          "output_type": "execute_result",
          "data": {
            "text/plain": [
              "<PIL.Image.Image image mode=RGBA size=196x89 at 0x7F74903DAB20>"
            ],
            "image/png": "[encoded data removed]"
          },
          "metadata": {},
          "execution_count": 23
        }
      ]
    },
    {
      "cell_type": "markdown",
      "id": "2916ba71",
      "metadata": {
        "id": "2916ba71"
      },
      "source": [
        "### Model configuration"
      ]
    },
    {
      "cell_type": "code",
      "execution_count": 25,
      "id": "1c360716",
      "metadata": {
        "id": "1c360716"
      },
      "outputs": [],
      "source": [
        "model.compile(optimizer='Adam', \n",
        "              loss='categorical_crossentropy',\n",
        "              metrics=['accuracy'])"
      ]
    },
    {
      "cell_type": "code",
      "source": [
        "model_cnn.compile(optimizer='Adam', \n",
        "              loss='categorical_crossentropy',\n",
        "              metrics=['accuracy'])"
      ],
      "metadata": {
        "id": "8QWIpaiuXYPp"
      },
      "id": "8QWIpaiuXYPp",
      "execution_count": 26,
      "outputs": []
    },
    {
      "cell_type": "markdown",
      "id": "688fbd68",
      "metadata": {
        "id": "688fbd68"
      },
      "source": [
        "### Model fitting"
      ]
    },
    {
      "cell_type": "code",
      "execution_count": 27,
      "id": "55901bc7",
      "metadata": {
        "colab": {
          "base_uri": "https://localhost:8080/"
        },
        "id": "55901bc7",
        "outputId": "99f5cb2d-0825-4bfd-d29b-4830261bc1f7"
      },
      "outputs": [
        {
          "output_type": "stream",
          "name": "stdout",
          "text": [
            "Epoch 1/10\n",
            "375/375 [==============================] - 6s 4ms/step - loss: 0.4424 - accuracy: 0.8724 - val_loss: 0.2164 - val_accuracy: 0.9406\n",
            "Epoch 2/10\n",
            "375/375 [==============================] - 1s 4ms/step - loss: 0.2165 - accuracy: 0.9372 - val_loss: 0.1570 - val_accuracy: 0.9552\n",
            "Epoch 3/10\n",
            "375/375 [==============================] - 1s 3ms/step - loss: 0.1647 - accuracy: 0.9515 - val_loss: 0.1304 - val_accuracy: 0.9644\n",
            "Epoch 4/10\n",
            "375/375 [==============================] - 1s 3ms/step - loss: 0.1333 - accuracy: 0.9612 - val_loss: 0.1126 - val_accuracy: 0.9665\n",
            "Epoch 5/10\n",
            "375/375 [==============================] - 1s 3ms/step - loss: 0.1157 - accuracy: 0.9658 - val_loss: 0.1019 - val_accuracy: 0.9699\n",
            "Epoch 6/10\n",
            "375/375 [==============================] - 2s 4ms/step - loss: 0.0987 - accuracy: 0.9707 - val_loss: 0.0945 - val_accuracy: 0.9721\n",
            "Epoch 7/10\n",
            "375/375 [==============================] - 2s 4ms/step - loss: 0.0864 - accuracy: 0.9739 - val_loss: 0.0886 - val_accuracy: 0.9732\n",
            "Epoch 8/10\n",
            "375/375 [==============================] - 1s 3ms/step - loss: 0.0776 - accuracy: 0.9762 - val_loss: 0.0837 - val_accuracy: 0.9749\n",
            "Epoch 9/10\n",
            "375/375 [==============================] - 1s 3ms/step - loss: 0.0715 - accuracy: 0.9782 - val_loss: 0.0794 - val_accuracy: 0.9769\n",
            "Epoch 10/10\n",
            "375/375 [==============================] - 1s 3ms/step - loss: 0.0640 - accuracy: 0.9800 - val_loss: 0.0799 - val_accuracy: 0.9768\n"
          ]
        }
      ],
      "source": [
        "history = model.fit(X_train, Y_train, validation_split=0.2, epochs=10, batch_size=128)"
      ]
    },
    {
      "cell_type": "code",
      "source": [
        "history_cnn = model_cnn.fit(X_train, Y_train, validation_split=0.2, epochs=10, batch_size=128)"
      ],
      "metadata": {
        "id": "Yl2B_wQEXdJD",
        "colab": {
          "base_uri": "https://localhost:8080/"
        },
        "outputId": "0ca68a5f-8351-4351-eed2-9ebaa1b101ee"
      },
      "id": "Yl2B_wQEXdJD",
      "execution_count": 28,
      "outputs": [
        {
          "output_type": "stream",
          "name": "stdout",
          "text": [
            "Epoch 1/10\n",
            "375/375 [==============================] - 10s 7ms/step - loss: 0.8190 - accuracy: 0.7289 - val_loss: 0.1800 - val_accuracy: 0.9493\n",
            "Epoch 2/10\n",
            "375/375 [==============================] - 2s 6ms/step - loss: 0.2970 - accuracy: 0.9065 - val_loss: 0.1121 - val_accuracy: 0.9672\n",
            "Epoch 3/10\n",
            "375/375 [==============================] - 2s 6ms/step - loss: 0.2169 - accuracy: 0.9308 - val_loss: 0.0879 - val_accuracy: 0.9762\n",
            "Epoch 4/10\n",
            "375/375 [==============================] - 2s 6ms/step - loss: 0.1803 - accuracy: 0.9434 - val_loss: 0.0686 - val_accuracy: 0.9800\n",
            "Epoch 5/10\n",
            "375/375 [==============================] - 3s 8ms/step - loss: 0.1574 - accuracy: 0.9498 - val_loss: 0.0607 - val_accuracy: 0.9827\n",
            "Epoch 6/10\n",
            "375/375 [==============================] - 2s 6ms/step - loss: 0.1408 - accuracy: 0.9551 - val_loss: 0.0646 - val_accuracy: 0.9815\n",
            "Epoch 7/10\n",
            "375/375 [==============================] - 2s 6ms/step - loss: 0.1299 - accuracy: 0.9588 - val_loss: 0.0611 - val_accuracy: 0.9811\n",
            "Epoch 8/10\n",
            "375/375 [==============================] - 2s 6ms/step - loss: 0.1187 - accuracy: 0.9628 - val_loss: 0.0567 - val_accuracy: 0.9836\n",
            "Epoch 9/10\n",
            "375/375 [==============================] - 2s 6ms/step - loss: 0.1108 - accuracy: 0.9642 - val_loss: 0.0504 - val_accuracy: 0.9853\n",
            "Epoch 10/10\n",
            "375/375 [==============================] - 3s 7ms/step - loss: 0.1033 - accuracy: 0.9670 - val_loss: 0.0596 - val_accuracy: 0.9829\n"
          ]
        }
      ]
    },
    {
      "cell_type": "markdown",
      "id": "394b266a",
      "metadata": {
        "id": "394b266a"
      },
      "source": [
        "### Evaluation"
      ]
    },
    {
      "cell_type": "code",
      "execution_count": 29,
      "id": "6b82a605",
      "metadata": {
        "id": "6b82a605",
        "colab": {
          "base_uri": "https://localhost:8080/"
        },
        "outputId": "e9ddf8d5-8e55-4b10-e7d8-ff49756f8e06"
      },
      "outputs": [
        {
          "output_type": "stream",
          "name": "stdout",
          "text": [
            "313/313 [==============================] - 1s 2ms/step - loss: 0.0762 - accuracy: 0.9761\n"
          ]
        },
        {
          "output_type": "execute_result",
          "data": {
            "text/plain": [
              "[0.07616540789604187, 0.9761000275611877]"
            ]
          },
          "metadata": {},
          "execution_count": 29
        }
      ],
      "source": [
        "model.evaluate(X_test, Y_test)"
      ]
    },
    {
      "cell_type": "code",
      "source": [
        "model_cnn.evaluate(X_test, Y_test)"
      ],
      "metadata": {
        "id": "NCi-RyUQXlOq",
        "colab": {
          "base_uri": "https://localhost:8080/"
        },
        "outputId": "b13072a9-027b-42bb-c534-7d4393a935ab"
      },
      "id": "NCi-RyUQXlOq",
      "execution_count": 30,
      "outputs": [
        {
          "output_type": "stream",
          "name": "stdout",
          "text": [
            "313/313 [==============================] - 1s 3ms/step - loss: 0.0545 - accuracy: 0.9848\n"
          ]
        },
        {
          "output_type": "execute_result",
          "data": {
            "text/plain": [
              "[0.05450042709708214, 0.9847999811172485]"
            ]
          },
          "metadata": {},
          "execution_count": 30
        }
      ]
    },
    {
      "cell_type": "code",
      "execution_count": 31,
      "id": "bfe508b5",
      "metadata": {
        "id": "bfe508b5",
        "colab": {
          "base_uri": "https://localhost:8080/",
          "height": 573
        },
        "outputId": "b41357bc-9867-4930-9a6d-f338f0add3e8"
      },
      "outputs": [
        {
          "output_type": "display_data",
          "data": {
            "text/plain": [
              "<Figure size 432x288 with 1 Axes>"
            ],
            "image/png": "[encoded data removed]"
          },
          "metadata": {
            "needs_background": "light"
          }
        },
        {
          "output_type": "display_data",
          "data": {
            "text/plain": [
              "<Figure size 432x288 with 1 Axes>"
            ],
            "image/png": "[encoded data removed]"
          },
          "metadata": {
            "needs_background": "light"
          }
        }
      ],
      "source": [
        "plt.plot(history.history['accuracy'])\n",
        "plt.plot(history.history['val_accuracy'])\n",
        "plt.title('Model accuracy')\n",
        "plt.ylabel('Accuracy')\n",
        "plt.xlabel('Epoch')\n",
        "plt.legend(['Train', 'Validation'], loc='upper left')\n",
        "plt.show()\n",
        "\n",
        "plt.plot(history.history['loss'])\n",
        "plt.plot(history.history['val_loss'])\n",
        "plt.title('Model loss')\n",
        "plt.ylabel('Loss')\n",
        "plt.xlabel('Epoch')\n",
        "plt.legend(['Train', 'Validation'], loc='upper right')\n",
        "plt.show()"
      ]
    },
    {
      "cell_type": "code",
      "source": [
        "plt.plot(history_cnn.history['accuracy'])\n",
        "plt.plot(history_cnn.history['val_accuracy'])\n",
        "plt.title('Model accuracy')\n",
        "plt.ylabel('Accuracy')\n",
        "plt.xlabel('Epoch')\n",
        "plt.legend(['Train', 'Validation'], loc='upper left')\n",
        "plt.show()\n",
        "\n",
        "plt.plot(history_cnn.history['loss'])\n",
        "plt.plot(history_cnn.history['val_loss'])\n",
        "plt.title('Model loss')\n",
        "plt.ylabel('Loss')\n",
        "plt.xlabel('Epoch')\n",
        "plt.legend(['Train', 'Validation'], loc='upper right')\n",
        "plt.show()"
      ],
      "metadata": {
        "id": "Gevc_C37fUcC",
        "colab": {
          "base_uri": "https://localhost:8080/",
          "height": 573
        },
        "outputId": "0ca4434e-d8dc-4049-fb5e-7072bb9ac960"
      },
      "id": "Gevc_C37fUcC",
      "execution_count": 32,
      "outputs": [
        {
          "output_type": "display_data",
          "data": {
            "text/plain": [
              "<Figure size 432x288 with 1 Axes>"
            ],
            "image/png": "[encoded data removed]"
          },
          "metadata": {
            "needs_background": "light"
          }
        },
        {
          "output_type": "display_data",
          "data": {
            "text/plain": [
              "<Figure size 432x288 with 1 Axes>"
            ],
            "image/png": "[encoded data removed]"
          },
          "metadata": {
            "needs_background": "light"
          }
        }
      ]
    },
    {
      "cell_type": "code",
      "execution_count": 33,
      "id": "4ee7e69c",
      "metadata": {
        "id": "4ee7e69c",
        "colab": {
          "base_uri": "https://localhost:8080/",
          "height": 667
        },
        "outputId": "a9f12939-8be2-4628-f961-c75b6ec19b21"
      },
      "outputs": [
        {
          "output_type": "stream",
          "name": "stdout",
          "text": [
            "313/313 [==============================] - 1s 1ms/step\n",
            "Accuracy: 0.9761\n",
            "Precision: 0.976311661408209\n",
            "Recall: 0.9757699723179906\n",
            "F1 Score: 0.9759805792974359\n"
          ]
        },
        {
          "output_type": "display_data",
          "data": {
            "text/plain": [
              "<Figure size 720x720 with 2 Axes>"
            ],
            "image/png": "[encoded data removed]"
          },
          "metadata": {
            "needs_background": "light"
          }
        }
      ],
      "source": [
        "Y_pred = model.predict(X_test, verbose=1)\n",
        "Y_pred = np.argmax(Y_pred, axis=1)\n",
        "Y_test_cal = np.argmax(Y_test, axis=1)\n",
        "\n",
        "accuracy = accuracy_score(Y_test_cal, Y_pred)\n",
        "precision = precision_score(Y_test_cal, Y_pred, average='macro')\n",
        "recall = recall_score(Y_test_cal, Y_pred, average='macro')\n",
        "f1 = f1_score(Y_test_cal, Y_pred, average='macro')\n",
        "cm = confusion_matrix(Y_test_cal, Y_pred)\n",
        "\n",
        "print(\"Accuracy:\", accuracy)\n",
        "print(\"Precision:\", precision)\n",
        "print(\"Recall:\", recall)\n",
        "print(\"F1 Score:\", f1)\n",
        "\n",
        "#sns.heatmap(cm, annot=True)\n",
        "cm_display = ConfusionMatrixDisplay(confusion_matrix=cm)\n",
        "fig, ax = plt.subplots(figsize=(10, 10))\n",
        "cm_display.plot(ax=ax, cmap=plt.cm.Blues)\n",
        "plt.xticks(fontsize=14)\n",
        "plt.yticks(fontsize=14)\n",
        "plt.xlabel('Predicted label', fontsize=16)\n",
        "plt.ylabel('True label', fontsize=16)\n",
        "plt.show()"
      ]
    },
    {
      "cell_type": "code",
      "execution_count": 34,
      "id": "5d6f5a89",
      "metadata": {
        "id": "5d6f5a89",
        "colab": {
          "base_uri": "https://localhost:8080/",
          "height": 667
        },
        "outputId": "2bec7271-d17e-4a5f-a7e1-a51c859ac1bd"
      },
      "outputs": [
        {
          "output_type": "stream",
          "name": "stdout",
          "text": [
            "313/313 [==============================] - 1s 2ms/step\n",
            "Accuracy: 0.9848\n",
            "Precision: 0.9849421522854092\n",
            "Recall: 0.9846302720213739\n",
            "F1 Score: 0.9847313214561211\n"
          ]
        },
        {
          "output_type": "display_data",
          "data": {
            "text/plain": [
              "<Figure size 720x720 with 2 Axes>"
            ],
            "image/png": "[encoded data removed]"
          },
          "metadata": {
            "needs_background": "light"
          }
        }
      ],
      "source": [
        "Y_pred = model_cnn.predict(X_test, verbose=1)\n",
        "Y_pred = np.argmax(Y_pred, axis=1)\n",
        "Y_test_cal = np.argmax(Y_test, axis=1)\n",
        "\n",
        "accuracy = accuracy_score(Y_test_cal, Y_pred)\n",
        "precision = precision_score(Y_test_cal, Y_pred, average='macro')\n",
        "recall = recall_score(Y_test_cal, Y_pred, average='macro')\n",
        "f1 = f1_score(Y_test_cal, Y_pred, average='macro')\n",
        "cm = confusion_matrix(Y_test_cal, Y_pred)\n",
        "\n",
        "print(\"Accuracy:\", accuracy)\n",
        "print(\"Precision:\", precision)\n",
        "print(\"Recall:\", recall)\n",
        "print(\"F1 Score:\", f1)\n",
        "\n",
        "#sns.heatmap(cm, annot=True)\n",
        "cm_display = ConfusionMatrixDisplay(confusion_matrix=cm)\n",
        "fig, ax = plt.subplots(figsize=(10, 10))\n",
        "cm_display.plot(ax=ax, cmap=plt.cm.Blues)\n",
        "plt.xticks(fontsize=14)\n",
        "plt.yticks(fontsize=14)\n",
        "plt.xlabel('Predicted label', fontsize=16)\n",
        "plt.ylabel('True label', fontsize=16)\n",
        "plt.show()"
      ]
    },
    {
      "cell_type": "code",
      "execution_count": null,
      "id": "d0ea4ab9",
      "metadata": {
        "id": "d0ea4ab9"
      },
      "outputs": [],
      "source": []
    },
    {
      "cell_type": "code",
      "execution_count": null,
      "id": "d981054e",
      "metadata": {
        "id": "d981054e"
      },
      "outputs": [],
      "source": []
    },
    {
      "cell_type": "code",
      "execution_count": null,
      "id": "2d3aa107",
      "metadata": {
        "id": "2d3aa107"
      },
      "outputs": [],
      "source": []
    },
    {
      "cell_type": "code",
      "execution_count": null,
      "id": "4cda7e39",
      "metadata": {
        "id": "4cda7e39"
      },
      "outputs": [],
      "source": []
    },
    {
      "cell_type": "code",
      "execution_count": null,
      "id": "fa8ec367",
      "metadata": {
        "id": "fa8ec367"
      },
      "outputs": [],
      "source": []
    },
    {
      "cell_type": "code",
      "execution_count": null,
      "id": "054e166b",
      "metadata": {
        "id": "054e166b"
      },
      "outputs": [],
      "source": []
    },
    {
      "cell_type": "code",
      "execution_count": null,
      "id": "58c33d98",
      "metadata": {
        "id": "58c33d98"
      },
      "outputs": [],
      "source": []
    },
    {
      "cell_type": "code",
      "execution_count": null,
      "id": "1cb15e0f",
      "metadata": {
        "id": "1cb15e0f"
      },
      "outputs": [],
      "source": []
    },
    {
      "cell_type": "code",
      "execution_count": null,
      "id": "96c6782a",
      "metadata": {
        "id": "96c6782a"
      },
      "outputs": [],
      "source": []
    },
    {
      "cell_type": "code",
      "execution_count": null,
      "id": "465d71e1",
      "metadata": {
        "id": "465d71e1"
      },
      "outputs": [],
      "source": []
    },
    {
      "cell_type": "code",
      "execution_count": null,
      "id": "115369f9",
      "metadata": {
        "id": "115369f9"
      },
      "outputs": [],
      "source": []
    },
    {
      "cell_type": "code",
      "execution_count": null,
      "id": "cf33a8b0",
      "metadata": {
        "id": "cf33a8b0"
      },
      "outputs": [],
      "source": []
    },
    {
      "cell_type": "code",
      "execution_count": null,
      "id": "9b6d13ca",
      "metadata": {
        "id": "9b6d13ca"
      },
      "outputs": [],
      "source": []
    },
    {
      "cell_type": "code",
      "execution_count": null,
      "id": "95865307",
      "metadata": {
        "id": "95865307"
      },
      "outputs": [],
      "source": []
    },
    {
      "cell_type": "code",
      "execution_count": null,
      "id": "51868244",
      "metadata": {
        "id": "51868244"
      },
      "outputs": [],
      "source": []
    },
    {
      "cell_type": "code",
      "execution_count": null,
      "id": "5892b375",
      "metadata": {
        "id": "5892b375"
      },
      "outputs": [],
      "source": []
    },
    {
      "cell_type": "code",
      "execution_count": null,
      "id": "80d154a2",
      "metadata": {
        "id": "80d154a2"
      },
      "outputs": [],
      "source": []
    },
    {
      "cell_type": "code",
      "execution_count": null,
      "id": "55c8350f",
      "metadata": {
        "id": "55c8350f"
      },
      "outputs": [],
      "source": []
    },
    {
      "cell_type": "code",
      "execution_count": null,
      "id": "22af6ac6",
      "metadata": {
        "id": "22af6ac6"
      },
      "outputs": [],
      "source": []
    },
    {
      "cell_type": "code",
      "execution_count": null,
      "id": "3ddd55bd",
      "metadata": {
        "id": "3ddd55bd"
      },
      "outputs": [],
      "source": []
    },
    {
      "cell_type": "code",
      "execution_count": null,
      "id": "b3e1c36f",
      "metadata": {
        "id": "b3e1c36f"
      },
      "outputs": [],
      "source": []
    }
  ],
  "metadata": {
    "kernelspec": {
      "display_name": "Python 3 (ipykernel)",
      "language": "python",
      "name": "python3"
    },
    "language_info": {
      "codemirror_mode": {
        "name": "ipython",
        "version": 3
      },
      "file_extension": ".py",
      "mimetype": "text/x-python",
      "name": "python",
      "nbconvert_exporter": "python",
      "pygments_lexer": "ipython3",
      "version": "3.9.13"
    },
    "colab": {
      "provenance": []
    },
    "accelerator": "GPU",
    "gpuClass": "standard"
  },
  "nbformat": 4,
  "nbformat_minor": 5
}